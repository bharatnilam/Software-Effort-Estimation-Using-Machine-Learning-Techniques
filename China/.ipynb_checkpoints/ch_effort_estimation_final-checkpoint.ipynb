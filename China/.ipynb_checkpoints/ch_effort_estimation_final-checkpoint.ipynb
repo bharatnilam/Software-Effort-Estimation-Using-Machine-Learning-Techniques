{
 "cells": [
  {
   "cell_type": "markdown",
   "metadata": {},
   "source": [
    "# China Dataset - Effort Estimation\n",
    "Fang Hon Yun. (2010). China: Effort Estimation Dataset (Dataset). Zenodo. http://doi.org/10.5281/zenodo.268446\n",
    "\n",
    "The goal of the project is to develop an effective effort estimation model achieving best possible accuracy level, optimizing software projects by estimating efforts for the same using machine learning techniques."
   ]
  },
  {
   "cell_type": "markdown",
   "metadata": {},
   "source": [
    "## Contents\n",
    "- Import Libraries\n",
    "- Data Description\n",
    "- Data Cleaning\n",
    "- EDA\n",
    "- Feature Engineering\n",
    "- Feature Selection\n",
    "- Modeling and Evaluation"
   ]
  },
  {
   "cell_type": "markdown",
   "metadata": {},
   "source": [
    "## Import Libraries"
   ]
  },
  {
   "cell_type": "code",
   "execution_count": 1,
   "metadata": {},
   "outputs": [],
   "source": [
    "from scipy.io import arff\n",
    "import pandas as pd\n",
    "import numpy as np\n",
    "import matplotlib.pyplot as plt\n",
    "import seaborn as sns\n",
    "plt.style.use('ggplot')\n",
    "from sklearn.preprocessing import RobustScaler\n",
    "from sklearn.preprocessing import MinMaxScaler\n",
    "from sklearn.model_selection import train_test_split\n",
    "from sklearn.linear_model import Lasso\n",
    "from sklearn.feature_selection import mutual_info_regression\n",
    "from sklearn.model_selection import cross_val_score\n",
    "from sklearn.model_selection import GridSearchCV\n",
    "from sklearn import metrics"
   ]
  },
  {
   "cell_type": "code",
   "execution_count": 2,
   "metadata": {},
   "outputs": [],
   "source": [
    "from sklearn.linear_model import LinearRegression\n",
    "from sklearn.linear_model import Ridge\n",
    "from sklearn.linear_model import ElasticNet\n",
    "from sklearn.linear_model import SGDRegressor"
   ]
  },
  {
   "cell_type": "code",
   "execution_count": 3,
   "metadata": {},
   "outputs": [],
   "source": [
    "from sklearn.svm import SVR\n",
    "from sklearn.neighbors import KNeighborsRegressor\n",
    "from sklearn.tree import DecisionTreeRegressor\n",
    "from sklearn.ensemble import GradientBoostingRegressor\n",
    "from sklearn.ensemble import RandomForestRegressor\n",
    "from sklearn.ensemble import ExtraTreesRegressor\n",
    "from sklearn.neural_network import MLPRegressor"
   ]
  },
  {
   "cell_type": "code",
   "execution_count": 4,
   "metadata": {},
   "outputs": [],
   "source": [
    "from sklearn.ensemble import BaggingRegressor\n",
    "from sklearn.ensemble import AdaBoostRegressor\n",
    "from sklearn.ensemble import StackingRegressor"
   ]
  },
  {
   "cell_type": "code",
   "execution_count": 5,
   "metadata": {},
   "outputs": [],
   "source": [
    "ch_data = arff.loadarff('china.arff')\n",
    "ch = pd.DataFrame(ch_data[0])\n",
    "ch.to_csv('china.csv', index=False)\n",
    "ch = pd.read_csv('china.csv')"
   ]
  },
  {
   "cell_type": "code",
   "execution_count": 6,
   "metadata": {},
   "outputs": [
    {
     "data": {
      "text/plain": [
       "(499, 19)"
      ]
     },
     "execution_count": 6,
     "metadata": {},
     "output_type": "execute_result"
    }
   ],
   "source": [
    "ch.shape"
   ]
  },
  {
   "cell_type": "markdown",
   "metadata": {},
   "source": [
    "## Data Description"
   ]
  },
  {
   "cell_type": "code",
   "execution_count": 7,
   "metadata": {},
   "outputs": [
    {
     "data": {
      "text/html": [
       "<div>\n",
       "<style scoped>\n",
       "    .dataframe tbody tr th:only-of-type {\n",
       "        vertical-align: middle;\n",
       "    }\n",
       "\n",
       "    .dataframe tbody tr th {\n",
       "        vertical-align: top;\n",
       "    }\n",
       "\n",
       "    .dataframe thead th {\n",
       "        text-align: right;\n",
       "    }\n",
       "</style>\n",
       "<table border=\"1\" class=\"dataframe\">\n",
       "  <thead>\n",
       "    <tr style=\"text-align: right;\">\n",
       "      <th></th>\n",
       "      <th>ID</th>\n",
       "      <th>AFP</th>\n",
       "      <th>Input</th>\n",
       "      <th>Output</th>\n",
       "      <th>Enquiry</th>\n",
       "      <th>File</th>\n",
       "      <th>Interface</th>\n",
       "      <th>Added</th>\n",
       "      <th>Changed</th>\n",
       "      <th>Deleted</th>\n",
       "      <th>PDR_AFP</th>\n",
       "      <th>PDR_UFP</th>\n",
       "      <th>NPDR_AFP</th>\n",
       "      <th>NPDU_UFP</th>\n",
       "      <th>Resource</th>\n",
       "      <th>Dev.Type</th>\n",
       "      <th>Duration</th>\n",
       "      <th>N_effort</th>\n",
       "      <th>Effort</th>\n",
       "    </tr>\n",
       "  </thead>\n",
       "  <tbody>\n",
       "    <tr>\n",
       "      <th>0</th>\n",
       "      <td>1.0</td>\n",
       "      <td>1587.0</td>\n",
       "      <td>774.0</td>\n",
       "      <td>260.0</td>\n",
       "      <td>340.0</td>\n",
       "      <td>128.0</td>\n",
       "      <td>0.0</td>\n",
       "      <td>1502.0</td>\n",
       "      <td>0.0</td>\n",
       "      <td>0.0</td>\n",
       "      <td>4.7</td>\n",
       "      <td>5.0</td>\n",
       "      <td>4.7</td>\n",
       "      <td>5.0</td>\n",
       "      <td>4.0</td>\n",
       "      <td>0.0</td>\n",
       "      <td>4.0</td>\n",
       "      <td>7490.0</td>\n",
       "      <td>7490.0</td>\n",
       "    </tr>\n",
       "    <tr>\n",
       "      <th>1</th>\n",
       "      <td>2.0</td>\n",
       "      <td>260.0</td>\n",
       "      <td>9.0</td>\n",
       "      <td>4.0</td>\n",
       "      <td>3.0</td>\n",
       "      <td>193.0</td>\n",
       "      <td>41.0</td>\n",
       "      <td>51.0</td>\n",
       "      <td>138.0</td>\n",
       "      <td>61.0</td>\n",
       "      <td>16.0</td>\n",
       "      <td>16.6</td>\n",
       "      <td>16.0</td>\n",
       "      <td>16.6</td>\n",
       "      <td>2.0</td>\n",
       "      <td>0.0</td>\n",
       "      <td>17.0</td>\n",
       "      <td>4150.0</td>\n",
       "      <td>4150.0</td>\n",
       "    </tr>\n",
       "    <tr>\n",
       "      <th>2</th>\n",
       "      <td>3.0</td>\n",
       "      <td>152.0</td>\n",
       "      <td>25.0</td>\n",
       "      <td>33.0</td>\n",
       "      <td>28.0</td>\n",
       "      <td>42.0</td>\n",
       "      <td>35.0</td>\n",
       "      <td>163.0</td>\n",
       "      <td>0.0</td>\n",
       "      <td>0.0</td>\n",
       "      <td>4.4</td>\n",
       "      <td>4.1</td>\n",
       "      <td>4.4</td>\n",
       "      <td>4.1</td>\n",
       "      <td>1.0</td>\n",
       "      <td>0.0</td>\n",
       "      <td>9.0</td>\n",
       "      <td>668.0</td>\n",
       "      <td>668.0</td>\n",
       "    </tr>\n",
       "    <tr>\n",
       "      <th>3</th>\n",
       "      <td>4.0</td>\n",
       "      <td>252.0</td>\n",
       "      <td>151.0</td>\n",
       "      <td>28.0</td>\n",
       "      <td>8.0</td>\n",
       "      <td>39.0</td>\n",
       "      <td>0.0</td>\n",
       "      <td>69.0</td>\n",
       "      <td>153.0</td>\n",
       "      <td>4.0</td>\n",
       "      <td>12.8</td>\n",
       "      <td>14.3</td>\n",
       "      <td>15.5</td>\n",
       "      <td>17.3</td>\n",
       "      <td>1.0</td>\n",
       "      <td>0.0</td>\n",
       "      <td>4.0</td>\n",
       "      <td>3901.0</td>\n",
       "      <td>3238.0</td>\n",
       "    </tr>\n",
       "    <tr>\n",
       "      <th>4</th>\n",
       "      <td>5.0</td>\n",
       "      <td>292.0</td>\n",
       "      <td>93.0</td>\n",
       "      <td>0.0</td>\n",
       "      <td>194.0</td>\n",
       "      <td>20.0</td>\n",
       "      <td>0.0</td>\n",
       "      <td>0.0</td>\n",
       "      <td>307.0</td>\n",
       "      <td>0.0</td>\n",
       "      <td>10.3</td>\n",
       "      <td>9.8</td>\n",
       "      <td>12.4</td>\n",
       "      <td>11.7</td>\n",
       "      <td>1.0</td>\n",
       "      <td>0.0</td>\n",
       "      <td>13.0</td>\n",
       "      <td>3607.0</td>\n",
       "      <td>2994.0</td>\n",
       "    </tr>\n",
       "  </tbody>\n",
       "</table>\n",
       "</div>"
      ],
      "text/plain": [
       "    ID     AFP  Input  Output  Enquiry   File  Interface   Added  Changed  \\\n",
       "0  1.0  1587.0  774.0   260.0    340.0  128.0        0.0  1502.0      0.0   \n",
       "1  2.0   260.0    9.0     4.0      3.0  193.0       41.0    51.0    138.0   \n",
       "2  3.0   152.0   25.0    33.0     28.0   42.0       35.0   163.0      0.0   \n",
       "3  4.0   252.0  151.0    28.0      8.0   39.0        0.0    69.0    153.0   \n",
       "4  5.0   292.0   93.0     0.0    194.0   20.0        0.0     0.0    307.0   \n",
       "\n",
       "   Deleted  PDR_AFP  PDR_UFP  NPDR_AFP  NPDU_UFP  Resource  Dev.Type  \\\n",
       "0      0.0      4.7      5.0       4.7       5.0       4.0       0.0   \n",
       "1     61.0     16.0     16.6      16.0      16.6       2.0       0.0   \n",
       "2      0.0      4.4      4.1       4.4       4.1       1.0       0.0   \n",
       "3      4.0     12.8     14.3      15.5      17.3       1.0       0.0   \n",
       "4      0.0     10.3      9.8      12.4      11.7       1.0       0.0   \n",
       "\n",
       "   Duration  N_effort  Effort  \n",
       "0       4.0    7490.0  7490.0  \n",
       "1      17.0    4150.0  4150.0  \n",
       "2       9.0     668.0   668.0  \n",
       "3       4.0    3901.0  3238.0  \n",
       "4      13.0    3607.0  2994.0  "
      ]
     },
     "execution_count": 7,
     "metadata": {},
     "output_type": "execute_result"
    }
   ],
   "source": [
    "ch.head()"
   ]
  },
  {
   "cell_type": "code",
   "execution_count": 8,
   "metadata": {},
   "outputs": [
    {
     "name": "stdout",
     "output_type": "stream",
     "text": [
      "<class 'pandas.core.frame.DataFrame'>\n",
      "RangeIndex: 499 entries, 0 to 498\n",
      "Data columns (total 19 columns):\n",
      " #   Column     Non-Null Count  Dtype  \n",
      "---  ------     --------------  -----  \n",
      " 0   ID         499 non-null    float64\n",
      " 1   AFP        499 non-null    float64\n",
      " 2   Input      499 non-null    float64\n",
      " 3   Output     499 non-null    float64\n",
      " 4   Enquiry    499 non-null    float64\n",
      " 5   File       499 non-null    float64\n",
      " 6   Interface  499 non-null    float64\n",
      " 7   Added      499 non-null    float64\n",
      " 8   Changed    499 non-null    float64\n",
      " 9   Deleted    499 non-null    float64\n",
      " 10  PDR_AFP    499 non-null    float64\n",
      " 11  PDR_UFP    499 non-null    float64\n",
      " 12  NPDR_AFP   499 non-null    float64\n",
      " 13  NPDU_UFP   499 non-null    float64\n",
      " 14  Resource   499 non-null    float64\n",
      " 15  Dev.Type   499 non-null    float64\n",
      " 16  Duration   499 non-null    float64\n",
      " 17  N_effort   499 non-null    float64\n",
      " 18  Effort     499 non-null    float64\n",
      "dtypes: float64(19)\n",
      "memory usage: 74.2 KB\n"
     ]
    }
   ],
   "source": [
    "ch.info()"
   ]
  },
  {
   "cell_type": "code",
   "execution_count": 9,
   "metadata": {},
   "outputs": [
    {
     "data": {
      "text/plain": [
       "Index(['ID', 'AFP', 'Input', 'Output', 'Enquiry', 'File', 'Interface', 'Added',\n",
       "       'Changed', 'Deleted', 'PDR_AFP', 'PDR_UFP', 'NPDR_AFP', 'NPDU_UFP',\n",
       "       'Resource', 'Dev.Type', 'Duration', 'N_effort', 'Effort'],\n",
       "      dtype='object')"
      ]
     },
     "execution_count": 9,
     "metadata": {},
     "output_type": "execute_result"
    }
   ],
   "source": [
    "ch.columns"
   ]
  },
  {
   "cell_type": "code",
   "execution_count": 10,
   "metadata": {},
   "outputs": [
    {
     "data": {
      "text/html": [
       "<div>\n",
       "<style scoped>\n",
       "    .dataframe tbody tr th:only-of-type {\n",
       "        vertical-align: middle;\n",
       "    }\n",
       "\n",
       "    .dataframe tbody tr th {\n",
       "        vertical-align: top;\n",
       "    }\n",
       "\n",
       "    .dataframe thead th {\n",
       "        text-align: right;\n",
       "    }\n",
       "</style>\n",
       "<table border=\"1\" class=\"dataframe\">\n",
       "  <thead>\n",
       "    <tr style=\"text-align: right;\">\n",
       "      <th></th>\n",
       "      <th>ID</th>\n",
       "      <th>AFP</th>\n",
       "      <th>Input</th>\n",
       "      <th>Output</th>\n",
       "      <th>Enquiry</th>\n",
       "      <th>File</th>\n",
       "      <th>Interface</th>\n",
       "      <th>Added</th>\n",
       "      <th>Changed</th>\n",
       "      <th>Deleted</th>\n",
       "      <th>PDR_AFP</th>\n",
       "      <th>PDR_UFP</th>\n",
       "      <th>NPDR_AFP</th>\n",
       "      <th>NPDU_UFP</th>\n",
       "      <th>Resource</th>\n",
       "      <th>Dev.Type</th>\n",
       "      <th>Duration</th>\n",
       "      <th>N_effort</th>\n",
       "      <th>Effort</th>\n",
       "    </tr>\n",
       "  </thead>\n",
       "  <tbody>\n",
       "    <tr>\n",
       "      <th>count</th>\n",
       "      <td>499.000000</td>\n",
       "      <td>499.000000</td>\n",
       "      <td>499.000000</td>\n",
       "      <td>499.000000</td>\n",
       "      <td>499.000000</td>\n",
       "      <td>499.000000</td>\n",
       "      <td>499.000000</td>\n",
       "      <td>499.000000</td>\n",
       "      <td>499.000000</td>\n",
       "      <td>499.000000</td>\n",
       "      <td>499.000000</td>\n",
       "      <td>499.00000</td>\n",
       "      <td>499.000000</td>\n",
       "      <td>499.000000</td>\n",
       "      <td>499.000000</td>\n",
       "      <td>499.0</td>\n",
       "      <td>499.000000</td>\n",
       "      <td>499.000000</td>\n",
       "      <td>499.000000</td>\n",
       "    </tr>\n",
       "    <tr>\n",
       "      <th>mean</th>\n",
       "      <td>250.000000</td>\n",
       "      <td>486.857715</td>\n",
       "      <td>167.098196</td>\n",
       "      <td>113.601202</td>\n",
       "      <td>61.601202</td>\n",
       "      <td>91.234469</td>\n",
       "      <td>24.234469</td>\n",
       "      <td>360.354709</td>\n",
       "      <td>85.062124</td>\n",
       "      <td>12.352705</td>\n",
       "      <td>11.770541</td>\n",
       "      <td>12.07976</td>\n",
       "      <td>13.269739</td>\n",
       "      <td>13.626253</td>\n",
       "      <td>1.458918</td>\n",
       "      <td>0.0</td>\n",
       "      <td>8.719238</td>\n",
       "      <td>4277.641283</td>\n",
       "      <td>3921.048096</td>\n",
       "    </tr>\n",
       "    <tr>\n",
       "      <th>std</th>\n",
       "      <td>144.193157</td>\n",
       "      <td>1059.171436</td>\n",
       "      <td>486.338575</td>\n",
       "      <td>221.274374</td>\n",
       "      <td>105.422840</td>\n",
       "      <td>210.270984</td>\n",
       "      <td>85.040996</td>\n",
       "      <td>829.842333</td>\n",
       "      <td>290.857039</td>\n",
       "      <td>124.224130</td>\n",
       "      <td>12.105649</td>\n",
       "      <td>12.81871</td>\n",
       "      <td>14.009840</td>\n",
       "      <td>14.843416</td>\n",
       "      <td>0.823729</td>\n",
       "      <td>0.0</td>\n",
       "      <td>7.347058</td>\n",
       "      <td>7071.248036</td>\n",
       "      <td>6480.855600</td>\n",
       "    </tr>\n",
       "    <tr>\n",
       "      <th>min</th>\n",
       "      <td>1.000000</td>\n",
       "      <td>9.000000</td>\n",
       "      <td>0.000000</td>\n",
       "      <td>0.000000</td>\n",
       "      <td>0.000000</td>\n",
       "      <td>0.000000</td>\n",
       "      <td>0.000000</td>\n",
       "      <td>0.000000</td>\n",
       "      <td>0.000000</td>\n",
       "      <td>0.000000</td>\n",
       "      <td>0.300000</td>\n",
       "      <td>0.30000</td>\n",
       "      <td>0.400000</td>\n",
       "      <td>0.400000</td>\n",
       "      <td>1.000000</td>\n",
       "      <td>0.0</td>\n",
       "      <td>1.000000</td>\n",
       "      <td>31.000000</td>\n",
       "      <td>26.000000</td>\n",
       "    </tr>\n",
       "    <tr>\n",
       "      <th>25%</th>\n",
       "      <td>125.500000</td>\n",
       "      <td>100.500000</td>\n",
       "      <td>27.000000</td>\n",
       "      <td>13.000000</td>\n",
       "      <td>6.000000</td>\n",
       "      <td>14.000000</td>\n",
       "      <td>0.000000</td>\n",
       "      <td>38.000000</td>\n",
       "      <td>0.000000</td>\n",
       "      <td>0.000000</td>\n",
       "      <td>4.300000</td>\n",
       "      <td>4.20000</td>\n",
       "      <td>4.600000</td>\n",
       "      <td>4.400000</td>\n",
       "      <td>1.000000</td>\n",
       "      <td>0.0</td>\n",
       "      <td>4.000000</td>\n",
       "      <td>776.000000</td>\n",
       "      <td>703.500000</td>\n",
       "    </tr>\n",
       "    <tr>\n",
       "      <th>50%</th>\n",
       "      <td>250.000000</td>\n",
       "      <td>215.000000</td>\n",
       "      <td>63.000000</td>\n",
       "      <td>42.000000</td>\n",
       "      <td>24.000000</td>\n",
       "      <td>36.000000</td>\n",
       "      <td>0.000000</td>\n",
       "      <td>135.000000</td>\n",
       "      <td>4.000000</td>\n",
       "      <td>0.000000</td>\n",
       "      <td>8.100000</td>\n",
       "      <td>8.00000</td>\n",
       "      <td>8.800000</td>\n",
       "      <td>8.900000</td>\n",
       "      <td>1.000000</td>\n",
       "      <td>0.0</td>\n",
       "      <td>7.000000</td>\n",
       "      <td>2098.000000</td>\n",
       "      <td>1829.000000</td>\n",
       "    </tr>\n",
       "    <tr>\n",
       "      <th>75%</th>\n",
       "      <td>374.500000</td>\n",
       "      <td>437.500000</td>\n",
       "      <td>152.500000</td>\n",
       "      <td>112.000000</td>\n",
       "      <td>68.500000</td>\n",
       "      <td>84.000000</td>\n",
       "      <td>20.000000</td>\n",
       "      <td>325.500000</td>\n",
       "      <td>87.000000</td>\n",
       "      <td>0.000000</td>\n",
       "      <td>15.400000</td>\n",
       "      <td>15.75000</td>\n",
       "      <td>16.350000</td>\n",
       "      <td>16.900000</td>\n",
       "      <td>2.000000</td>\n",
       "      <td>0.0</td>\n",
       "      <td>11.000000</td>\n",
       "      <td>4192.000000</td>\n",
       "      <td>3826.500000</td>\n",
       "    </tr>\n",
       "    <tr>\n",
       "      <th>max</th>\n",
       "      <td>499.000000</td>\n",
       "      <td>17518.000000</td>\n",
       "      <td>9404.000000</td>\n",
       "      <td>2455.000000</td>\n",
       "      <td>952.000000</td>\n",
       "      <td>2955.000000</td>\n",
       "      <td>1572.000000</td>\n",
       "      <td>13580.000000</td>\n",
       "      <td>5193.000000</td>\n",
       "      <td>2657.000000</td>\n",
       "      <td>83.800000</td>\n",
       "      <td>96.60000</td>\n",
       "      <td>101.000000</td>\n",
       "      <td>108.300000</td>\n",
       "      <td>4.000000</td>\n",
       "      <td>0.0</td>\n",
       "      <td>84.000000</td>\n",
       "      <td>54620.000000</td>\n",
       "      <td>54620.000000</td>\n",
       "    </tr>\n",
       "  </tbody>\n",
       "</table>\n",
       "</div>"
      ],
      "text/plain": [
       "               ID           AFP        Input       Output     Enquiry  \\\n",
       "count  499.000000    499.000000   499.000000   499.000000  499.000000   \n",
       "mean   250.000000    486.857715   167.098196   113.601202   61.601202   \n",
       "std    144.193157   1059.171436   486.338575   221.274374  105.422840   \n",
       "min      1.000000      9.000000     0.000000     0.000000    0.000000   \n",
       "25%    125.500000    100.500000    27.000000    13.000000    6.000000   \n",
       "50%    250.000000    215.000000    63.000000    42.000000   24.000000   \n",
       "75%    374.500000    437.500000   152.500000   112.000000   68.500000   \n",
       "max    499.000000  17518.000000  9404.000000  2455.000000  952.000000   \n",
       "\n",
       "              File    Interface         Added      Changed      Deleted  \\\n",
       "count   499.000000   499.000000    499.000000   499.000000   499.000000   \n",
       "mean     91.234469    24.234469    360.354709    85.062124    12.352705   \n",
       "std     210.270984    85.040996    829.842333   290.857039   124.224130   \n",
       "min       0.000000     0.000000      0.000000     0.000000     0.000000   \n",
       "25%      14.000000     0.000000     38.000000     0.000000     0.000000   \n",
       "50%      36.000000     0.000000    135.000000     4.000000     0.000000   \n",
       "75%      84.000000    20.000000    325.500000    87.000000     0.000000   \n",
       "max    2955.000000  1572.000000  13580.000000  5193.000000  2657.000000   \n",
       "\n",
       "          PDR_AFP    PDR_UFP    NPDR_AFP    NPDU_UFP    Resource  Dev.Type  \\\n",
       "count  499.000000  499.00000  499.000000  499.000000  499.000000     499.0   \n",
       "mean    11.770541   12.07976   13.269739   13.626253    1.458918       0.0   \n",
       "std     12.105649   12.81871   14.009840   14.843416    0.823729       0.0   \n",
       "min      0.300000    0.30000    0.400000    0.400000    1.000000       0.0   \n",
       "25%      4.300000    4.20000    4.600000    4.400000    1.000000       0.0   \n",
       "50%      8.100000    8.00000    8.800000    8.900000    1.000000       0.0   \n",
       "75%     15.400000   15.75000   16.350000   16.900000    2.000000       0.0   \n",
       "max     83.800000   96.60000  101.000000  108.300000    4.000000       0.0   \n",
       "\n",
       "         Duration      N_effort        Effort  \n",
       "count  499.000000    499.000000    499.000000  \n",
       "mean     8.719238   4277.641283   3921.048096  \n",
       "std      7.347058   7071.248036   6480.855600  \n",
       "min      1.000000     31.000000     26.000000  \n",
       "25%      4.000000    776.000000    703.500000  \n",
       "50%      7.000000   2098.000000   1829.000000  \n",
       "75%     11.000000   4192.000000   3826.500000  \n",
       "max     84.000000  54620.000000  54620.000000  "
      ]
     },
     "execution_count": 10,
     "metadata": {},
     "output_type": "execute_result"
    }
   ],
   "source": [
    "ch.describe()"
   ]
  },
  {
   "cell_type": "markdown",
   "metadata": {},
   "source": [
    "## Data Cleaning"
   ]
  },
  {
   "cell_type": "code",
   "execution_count": 11,
   "metadata": {},
   "outputs": [
    {
     "data": {
      "text/plain": [
       "ID           0\n",
       "AFP          0\n",
       "Input        0\n",
       "Output       0\n",
       "Enquiry      0\n",
       "File         0\n",
       "Interface    0\n",
       "Added        0\n",
       "Changed      0\n",
       "Deleted      0\n",
       "PDR_AFP      0\n",
       "PDR_UFP      0\n",
       "NPDR_AFP     0\n",
       "NPDU_UFP     0\n",
       "Resource     0\n",
       "Dev.Type     0\n",
       "Duration     0\n",
       "N_effort     0\n",
       "Effort       0\n",
       "dtype: int64"
      ]
     },
     "execution_count": 11,
     "metadata": {},
     "output_type": "execute_result"
    }
   ],
   "source": [
    "ch.isnull().sum()"
   ]
  },
  {
   "cell_type": "code",
   "execution_count": 12,
   "metadata": {},
   "outputs": [],
   "source": [
    "ch.drop(['ID', 'Dev.Type'], axis=1, inplace=True)"
   ]
  },
  {
   "cell_type": "code",
   "execution_count": 13,
   "metadata": {},
   "outputs": [],
   "source": [
    "ch.to_csv('china_clean.csv', index=False)"
   ]
  },
  {
   "cell_type": "markdown",
   "metadata": {},
   "source": [
    "## EDA"
   ]
  },
  {
   "cell_type": "code",
   "execution_count": 14,
   "metadata": {},
   "outputs": [
    {
     "data": {
      "text/html": [
       "<div>\n",
       "<style scoped>\n",
       "    .dataframe tbody tr th:only-of-type {\n",
       "        vertical-align: middle;\n",
       "    }\n",
       "\n",
       "    .dataframe tbody tr th {\n",
       "        vertical-align: top;\n",
       "    }\n",
       "\n",
       "    .dataframe thead th {\n",
       "        text-align: right;\n",
       "    }\n",
       "</style>\n",
       "<table border=\"1\" class=\"dataframe\">\n",
       "  <thead>\n",
       "    <tr style=\"text-align: right;\">\n",
       "      <th></th>\n",
       "      <th>AFP</th>\n",
       "      <th>Input</th>\n",
       "      <th>Output</th>\n",
       "      <th>Enquiry</th>\n",
       "      <th>File</th>\n",
       "      <th>Interface</th>\n",
       "      <th>Added</th>\n",
       "      <th>Changed</th>\n",
       "      <th>Deleted</th>\n",
       "      <th>PDR_AFP</th>\n",
       "      <th>PDR_UFP</th>\n",
       "      <th>NPDR_AFP</th>\n",
       "      <th>NPDU_UFP</th>\n",
       "      <th>Resource</th>\n",
       "      <th>Duration</th>\n",
       "      <th>N_effort</th>\n",
       "      <th>Effort</th>\n",
       "    </tr>\n",
       "  </thead>\n",
       "  <tbody>\n",
       "    <tr>\n",
       "      <th>AFP</th>\n",
       "      <td>1.000000</td>\n",
       "      <td>0.929968</td>\n",
       "      <td>0.712668</td>\n",
       "      <td>0.488186</td>\n",
       "      <td>0.914711</td>\n",
       "      <td>0.402819</td>\n",
       "      <td>0.933307</td>\n",
       "      <td>0.313342</td>\n",
       "      <td>0.180308</td>\n",
       "      <td>-0.141567</td>\n",
       "      <td>-0.124103</td>\n",
       "      <td>-0.147505</td>\n",
       "      <td>-0.130600</td>\n",
       "      <td>0.157851</td>\n",
       "      <td>0.351080</td>\n",
       "      <td>0.643094</td>\n",
       "      <td>0.684644</td>\n",
       "    </tr>\n",
       "    <tr>\n",
       "      <th>Input</th>\n",
       "      <td>0.929968</td>\n",
       "      <td>1.000000</td>\n",
       "      <td>0.471630</td>\n",
       "      <td>0.338585</td>\n",
       "      <td>0.812958</td>\n",
       "      <td>0.159086</td>\n",
       "      <td>0.902650</td>\n",
       "      <td>0.129327</td>\n",
       "      <td>0.194728</td>\n",
       "      <td>-0.119653</td>\n",
       "      <td>-0.108345</td>\n",
       "      <td>-0.122576</td>\n",
       "      <td>-0.111771</td>\n",
       "      <td>0.096166</td>\n",
       "      <td>0.253619</td>\n",
       "      <td>0.540412</td>\n",
       "      <td>0.576267</td>\n",
       "    </tr>\n",
       "    <tr>\n",
       "      <th>Output</th>\n",
       "      <td>0.712668</td>\n",
       "      <td>0.471630</td>\n",
       "      <td>1.000000</td>\n",
       "      <td>0.431812</td>\n",
       "      <td>0.589836</td>\n",
       "      <td>0.539109</td>\n",
       "      <td>0.593967</td>\n",
       "      <td>0.511991</td>\n",
       "      <td>0.195015</td>\n",
       "      <td>-0.164323</td>\n",
       "      <td>-0.151550</td>\n",
       "      <td>-0.174400</td>\n",
       "      <td>-0.161873</td>\n",
       "      <td>0.190396</td>\n",
       "      <td>0.373034</td>\n",
       "      <td>0.525389</td>\n",
       "      <td>0.564053</td>\n",
       "    </tr>\n",
       "    <tr>\n",
       "      <th>Enquiry</th>\n",
       "      <td>0.488186</td>\n",
       "      <td>0.338585</td>\n",
       "      <td>0.431812</td>\n",
       "      <td>1.000000</td>\n",
       "      <td>0.467315</td>\n",
       "      <td>0.164118</td>\n",
       "      <td>0.513084</td>\n",
       "      <td>0.164468</td>\n",
       "      <td>0.034152</td>\n",
       "      <td>-0.109120</td>\n",
       "      <td>-0.088858</td>\n",
       "      <td>-0.113128</td>\n",
       "      <td>-0.092163</td>\n",
       "      <td>0.154634</td>\n",
       "      <td>0.426826</td>\n",
       "      <td>0.503129</td>\n",
       "      <td>0.510449</td>\n",
       "    </tr>\n",
       "    <tr>\n",
       "      <th>File</th>\n",
       "      <td>0.914711</td>\n",
       "      <td>0.812958</td>\n",
       "      <td>0.589836</td>\n",
       "      <td>0.467315</td>\n",
       "      <td>1.000000</td>\n",
       "      <td>0.455158</td>\n",
       "      <td>0.879229</td>\n",
       "      <td>0.300210</td>\n",
       "      <td>0.057897</td>\n",
       "      <td>-0.138626</td>\n",
       "      <td>-0.124668</td>\n",
       "      <td>-0.146662</td>\n",
       "      <td>-0.133399</td>\n",
       "      <td>0.208208</td>\n",
       "      <td>0.335603</td>\n",
       "      <td>0.566580</td>\n",
       "      <td>0.611860</td>\n",
       "    </tr>\n",
       "    <tr>\n",
       "      <th>Interface</th>\n",
       "      <td>0.402819</td>\n",
       "      <td>0.159086</td>\n",
       "      <td>0.539109</td>\n",
       "      <td>0.164118</td>\n",
       "      <td>0.455158</td>\n",
       "      <td>1.000000</td>\n",
       "      <td>0.223323</td>\n",
       "      <td>0.647125</td>\n",
       "      <td>0.170389</td>\n",
       "      <td>-0.051519</td>\n",
       "      <td>-0.046778</td>\n",
       "      <td>-0.056329</td>\n",
       "      <td>-0.051488</td>\n",
       "      <td>0.164663</td>\n",
       "      <td>0.251573</td>\n",
       "      <td>0.316237</td>\n",
       "      <td>0.328860</td>\n",
       "    </tr>\n",
       "    <tr>\n",
       "      <th>Added</th>\n",
       "      <td>0.933307</td>\n",
       "      <td>0.902650</td>\n",
       "      <td>0.593967</td>\n",
       "      <td>0.513084</td>\n",
       "      <td>0.879229</td>\n",
       "      <td>0.223323</td>\n",
       "      <td>1.000000</td>\n",
       "      <td>-0.001258</td>\n",
       "      <td>-0.008810</td>\n",
       "      <td>-0.125874</td>\n",
       "      <td>-0.113052</td>\n",
       "      <td>-0.134173</td>\n",
       "      <td>-0.121637</td>\n",
       "      <td>0.212892</td>\n",
       "      <td>0.409417</td>\n",
       "      <td>0.650475</td>\n",
       "      <td>0.691276</td>\n",
       "    </tr>\n",
       "    <tr>\n",
       "      <th>Changed</th>\n",
       "      <td>0.313342</td>\n",
       "      <td>0.129327</td>\n",
       "      <td>0.511991</td>\n",
       "      <td>0.164468</td>\n",
       "      <td>0.300210</td>\n",
       "      <td>0.647125</td>\n",
       "      <td>-0.001258</td>\n",
       "      <td>1.000000</td>\n",
       "      <td>0.176053</td>\n",
       "      <td>-0.099152</td>\n",
       "      <td>-0.089730</td>\n",
       "      <td>-0.097166</td>\n",
       "      <td>-0.088205</td>\n",
       "      <td>-0.035295</td>\n",
       "      <td>0.012611</td>\n",
       "      <td>0.101163</td>\n",
       "      <td>0.114581</td>\n",
       "    </tr>\n",
       "    <tr>\n",
       "      <th>Deleted</th>\n",
       "      <td>0.180308</td>\n",
       "      <td>0.194728</td>\n",
       "      <td>0.195015</td>\n",
       "      <td>0.034152</td>\n",
       "      <td>0.057897</td>\n",
       "      <td>0.170389</td>\n",
       "      <td>-0.008810</td>\n",
       "      <td>0.176053</td>\n",
       "      <td>1.000000</td>\n",
       "      <td>-0.050647</td>\n",
       "      <td>-0.047277</td>\n",
       "      <td>-0.049546</td>\n",
       "      <td>-0.046098</td>\n",
       "      <td>-0.027508</td>\n",
       "      <td>-0.004613</td>\n",
       "      <td>0.071905</td>\n",
       "      <td>0.068668</td>\n",
       "    </tr>\n",
       "    <tr>\n",
       "      <th>PDR_AFP</th>\n",
       "      <td>-0.141567</td>\n",
       "      <td>-0.119653</td>\n",
       "      <td>-0.164323</td>\n",
       "      <td>-0.109120</td>\n",
       "      <td>-0.138626</td>\n",
       "      <td>-0.051519</td>\n",
       "      <td>-0.125874</td>\n",
       "      <td>-0.099152</td>\n",
       "      <td>-0.050647</td>\n",
       "      <td>1.000000</td>\n",
       "      <td>0.990834</td>\n",
       "      <td>0.982724</td>\n",
       "      <td>0.974804</td>\n",
       "      <td>-0.044353</td>\n",
       "      <td>0.053981</td>\n",
       "      <td>0.248735</td>\n",
       "      <td>0.235013</td>\n",
       "    </tr>\n",
       "    <tr>\n",
       "      <th>PDR_UFP</th>\n",
       "      <td>-0.124103</td>\n",
       "      <td>-0.108345</td>\n",
       "      <td>-0.151550</td>\n",
       "      <td>-0.088858</td>\n",
       "      <td>-0.124668</td>\n",
       "      <td>-0.046778</td>\n",
       "      <td>-0.113052</td>\n",
       "      <td>-0.089730</td>\n",
       "      <td>-0.047277</td>\n",
       "      <td>0.990834</td>\n",
       "      <td>1.000000</td>\n",
       "      <td>0.976002</td>\n",
       "      <td>0.985389</td>\n",
       "      <td>-0.042268</td>\n",
       "      <td>0.051681</td>\n",
       "      <td>0.272756</td>\n",
       "      <td>0.256776</td>\n",
       "    </tr>\n",
       "    <tr>\n",
       "      <th>NPDR_AFP</th>\n",
       "      <td>-0.147505</td>\n",
       "      <td>-0.122576</td>\n",
       "      <td>-0.174400</td>\n",
       "      <td>-0.113128</td>\n",
       "      <td>-0.146662</td>\n",
       "      <td>-0.056329</td>\n",
       "      <td>-0.134173</td>\n",
       "      <td>-0.097166</td>\n",
       "      <td>-0.049546</td>\n",
       "      <td>0.982724</td>\n",
       "      <td>0.976002</td>\n",
       "      <td>1.000000</td>\n",
       "      <td>0.991364</td>\n",
       "      <td>-0.079931</td>\n",
       "      <td>0.027688</td>\n",
       "      <td>0.245540</td>\n",
       "      <td>0.215980</td>\n",
       "    </tr>\n",
       "    <tr>\n",
       "      <th>NPDU_UFP</th>\n",
       "      <td>-0.130600</td>\n",
       "      <td>-0.111771</td>\n",
       "      <td>-0.161873</td>\n",
       "      <td>-0.092163</td>\n",
       "      <td>-0.133399</td>\n",
       "      <td>-0.051488</td>\n",
       "      <td>-0.121637</td>\n",
       "      <td>-0.088205</td>\n",
       "      <td>-0.046098</td>\n",
       "      <td>0.974804</td>\n",
       "      <td>0.985389</td>\n",
       "      <td>0.991364</td>\n",
       "      <td>1.000000</td>\n",
       "      <td>-0.077945</td>\n",
       "      <td>0.027358</td>\n",
       "      <td>0.271168</td>\n",
       "      <td>0.238780</td>\n",
       "    </tr>\n",
       "    <tr>\n",
       "      <th>Resource</th>\n",
       "      <td>0.157851</td>\n",
       "      <td>0.096166</td>\n",
       "      <td>0.190396</td>\n",
       "      <td>0.154634</td>\n",
       "      <td>0.208208</td>\n",
       "      <td>0.164663</td>\n",
       "      <td>0.212892</td>\n",
       "      <td>-0.035295</td>\n",
       "      <td>-0.027508</td>\n",
       "      <td>-0.044353</td>\n",
       "      <td>-0.042268</td>\n",
       "      <td>-0.079931</td>\n",
       "      <td>-0.077945</td>\n",
       "      <td>1.000000</td>\n",
       "      <td>0.247618</td>\n",
       "      <td>0.186305</td>\n",
       "      <td>0.224905</td>\n",
       "    </tr>\n",
       "    <tr>\n",
       "      <th>Duration</th>\n",
       "      <td>0.351080</td>\n",
       "      <td>0.253619</td>\n",
       "      <td>0.373034</td>\n",
       "      <td>0.426826</td>\n",
       "      <td>0.335603</td>\n",
       "      <td>0.251573</td>\n",
       "      <td>0.409417</td>\n",
       "      <td>0.012611</td>\n",
       "      <td>-0.004613</td>\n",
       "      <td>0.053981</td>\n",
       "      <td>0.051681</td>\n",
       "      <td>0.027688</td>\n",
       "      <td>0.027358</td>\n",
       "      <td>0.247618</td>\n",
       "      <td>1.000000</td>\n",
       "      <td>0.461407</td>\n",
       "      <td>0.479859</td>\n",
       "    </tr>\n",
       "    <tr>\n",
       "      <th>N_effort</th>\n",
       "      <td>0.643094</td>\n",
       "      <td>0.540412</td>\n",
       "      <td>0.525389</td>\n",
       "      <td>0.503129</td>\n",
       "      <td>0.566580</td>\n",
       "      <td>0.316237</td>\n",
       "      <td>0.650475</td>\n",
       "      <td>0.101163</td>\n",
       "      <td>0.071905</td>\n",
       "      <td>0.248735</td>\n",
       "      <td>0.272756</td>\n",
       "      <td>0.245540</td>\n",
       "      <td>0.271168</td>\n",
       "      <td>0.186305</td>\n",
       "      <td>0.461407</td>\n",
       "      <td>1.000000</td>\n",
       "      <td>0.986331</td>\n",
       "    </tr>\n",
       "    <tr>\n",
       "      <th>Effort</th>\n",
       "      <td>0.684644</td>\n",
       "      <td>0.576267</td>\n",
       "      <td>0.564053</td>\n",
       "      <td>0.510449</td>\n",
       "      <td>0.611860</td>\n",
       "      <td>0.328860</td>\n",
       "      <td>0.691276</td>\n",
       "      <td>0.114581</td>\n",
       "      <td>0.068668</td>\n",
       "      <td>0.235013</td>\n",
       "      <td>0.256776</td>\n",
       "      <td>0.215980</td>\n",
       "      <td>0.238780</td>\n",
       "      <td>0.224905</td>\n",
       "      <td>0.479859</td>\n",
       "      <td>0.986331</td>\n",
       "      <td>1.000000</td>\n",
       "    </tr>\n",
       "  </tbody>\n",
       "</table>\n",
       "</div>"
      ],
      "text/plain": [
       "                AFP     Input    Output   Enquiry      File  Interface  \\\n",
       "AFP        1.000000  0.929968  0.712668  0.488186  0.914711   0.402819   \n",
       "Input      0.929968  1.000000  0.471630  0.338585  0.812958   0.159086   \n",
       "Output     0.712668  0.471630  1.000000  0.431812  0.589836   0.539109   \n",
       "Enquiry    0.488186  0.338585  0.431812  1.000000  0.467315   0.164118   \n",
       "File       0.914711  0.812958  0.589836  0.467315  1.000000   0.455158   \n",
       "Interface  0.402819  0.159086  0.539109  0.164118  0.455158   1.000000   \n",
       "Added      0.933307  0.902650  0.593967  0.513084  0.879229   0.223323   \n",
       "Changed    0.313342  0.129327  0.511991  0.164468  0.300210   0.647125   \n",
       "Deleted    0.180308  0.194728  0.195015  0.034152  0.057897   0.170389   \n",
       "PDR_AFP   -0.141567 -0.119653 -0.164323 -0.109120 -0.138626  -0.051519   \n",
       "PDR_UFP   -0.124103 -0.108345 -0.151550 -0.088858 -0.124668  -0.046778   \n",
       "NPDR_AFP  -0.147505 -0.122576 -0.174400 -0.113128 -0.146662  -0.056329   \n",
       "NPDU_UFP  -0.130600 -0.111771 -0.161873 -0.092163 -0.133399  -0.051488   \n",
       "Resource   0.157851  0.096166  0.190396  0.154634  0.208208   0.164663   \n",
       "Duration   0.351080  0.253619  0.373034  0.426826  0.335603   0.251573   \n",
       "N_effort   0.643094  0.540412  0.525389  0.503129  0.566580   0.316237   \n",
       "Effort     0.684644  0.576267  0.564053  0.510449  0.611860   0.328860   \n",
       "\n",
       "              Added   Changed   Deleted   PDR_AFP   PDR_UFP  NPDR_AFP  \\\n",
       "AFP        0.933307  0.313342  0.180308 -0.141567 -0.124103 -0.147505   \n",
       "Input      0.902650  0.129327  0.194728 -0.119653 -0.108345 -0.122576   \n",
       "Output     0.593967  0.511991  0.195015 -0.164323 -0.151550 -0.174400   \n",
       "Enquiry    0.513084  0.164468  0.034152 -0.109120 -0.088858 -0.113128   \n",
       "File       0.879229  0.300210  0.057897 -0.138626 -0.124668 -0.146662   \n",
       "Interface  0.223323  0.647125  0.170389 -0.051519 -0.046778 -0.056329   \n",
       "Added      1.000000 -0.001258 -0.008810 -0.125874 -0.113052 -0.134173   \n",
       "Changed   -0.001258  1.000000  0.176053 -0.099152 -0.089730 -0.097166   \n",
       "Deleted   -0.008810  0.176053  1.000000 -0.050647 -0.047277 -0.049546   \n",
       "PDR_AFP   -0.125874 -0.099152 -0.050647  1.000000  0.990834  0.982724   \n",
       "PDR_UFP   -0.113052 -0.089730 -0.047277  0.990834  1.000000  0.976002   \n",
       "NPDR_AFP  -0.134173 -0.097166 -0.049546  0.982724  0.976002  1.000000   \n",
       "NPDU_UFP  -0.121637 -0.088205 -0.046098  0.974804  0.985389  0.991364   \n",
       "Resource   0.212892 -0.035295 -0.027508 -0.044353 -0.042268 -0.079931   \n",
       "Duration   0.409417  0.012611 -0.004613  0.053981  0.051681  0.027688   \n",
       "N_effort   0.650475  0.101163  0.071905  0.248735  0.272756  0.245540   \n",
       "Effort     0.691276  0.114581  0.068668  0.235013  0.256776  0.215980   \n",
       "\n",
       "           NPDU_UFP  Resource  Duration  N_effort    Effort  \n",
       "AFP       -0.130600  0.157851  0.351080  0.643094  0.684644  \n",
       "Input     -0.111771  0.096166  0.253619  0.540412  0.576267  \n",
       "Output    -0.161873  0.190396  0.373034  0.525389  0.564053  \n",
       "Enquiry   -0.092163  0.154634  0.426826  0.503129  0.510449  \n",
       "File      -0.133399  0.208208  0.335603  0.566580  0.611860  \n",
       "Interface -0.051488  0.164663  0.251573  0.316237  0.328860  \n",
       "Added     -0.121637  0.212892  0.409417  0.650475  0.691276  \n",
       "Changed   -0.088205 -0.035295  0.012611  0.101163  0.114581  \n",
       "Deleted   -0.046098 -0.027508 -0.004613  0.071905  0.068668  \n",
       "PDR_AFP    0.974804 -0.044353  0.053981  0.248735  0.235013  \n",
       "PDR_UFP    0.985389 -0.042268  0.051681  0.272756  0.256776  \n",
       "NPDR_AFP   0.991364 -0.079931  0.027688  0.245540  0.215980  \n",
       "NPDU_UFP   1.000000 -0.077945  0.027358  0.271168  0.238780  \n",
       "Resource  -0.077945  1.000000  0.247618  0.186305  0.224905  \n",
       "Duration   0.027358  0.247618  1.000000  0.461407  0.479859  \n",
       "N_effort   0.271168  0.186305  0.461407  1.000000  0.986331  \n",
       "Effort     0.238780  0.224905  0.479859  0.986331  1.000000  "
      ]
     },
     "execution_count": 14,
     "metadata": {},
     "output_type": "execute_result"
    }
   ],
   "source": [
    "ch.corr()"
   ]
  },
  {
   "cell_type": "code",
   "execution_count": 15,
   "metadata": {
    "scrolled": false
   },
   "outputs": [
    {
     "data": {
      "text/plain": [
       "<AxesSubplot:title={'center':'Pearson Correlation of Features'}>"
      ]
     },
     "execution_count": 15,
     "metadata": {},
     "output_type": "execute_result"
    },
    {
     "data": {
      "image/png": "[encoded data removed]",
      "text/plain": [
       "<Figure size 1440x1440 with 2 Axes>"
      ]
     },
     "metadata": {},
     "output_type": "display_data"
    }
   ],
   "source": [
    "plt.figure(figsize=(20,20))\n",
    "plt.title('Pearson Correlation of Features', y=1.05, size=15)\n",
    "sns.set(font_scale=1.05)\n",
    "sns.heatmap(ch.astype(float).corr(),linewidths=0.1,vmax=1.0, square=True, linecolor='white', annot=True)"
   ]
  },
  {
   "cell_type": "markdown",
   "metadata": {},
   "source": [
    "## Feature Engineering"
   ]
  },
  {
   "cell_type": "markdown",
   "metadata": {},
   "source": [
    "### Log Transformation on skewed features"
   ]
  },
  {
   "cell_type": "code",
   "execution_count": 16,
   "metadata": {},
   "outputs": [],
   "source": [
    "ch2 = ch.copy()"
   ]
  },
  {
   "cell_type": "code",
   "execution_count": 17,
   "metadata": {},
   "outputs": [],
   "source": [
    "cols = ['AFP', 'Input', 'Output', 'Enquiry', 'File', 'Interface', 'Added',\n",
    "       'Changed', 'Deleted', 'PDR_AFP', 'PDR_UFP', 'NPDR_AFP', 'NPDU_UFP',\n",
    "       'Resource', 'Duration', 'N_effort']\n",
    "for col in cols:\n",
    "    if(ch2[col].skew()>2.0):\n",
    "        ch2[col] = np.log1p(ch2[col])\n",
    "    "
   ]
  },
  {
   "cell_type": "code",
   "execution_count": 18,
   "metadata": {},
   "outputs": [
    {
     "data": {
      "text/plain": [
       "(499, 17)"
      ]
     },
     "execution_count": 18,
     "metadata": {},
     "output_type": "execute_result"
    }
   ],
   "source": [
    "ch2.shape"
   ]
  },
  {
   "cell_type": "code",
   "execution_count": 19,
   "metadata": {},
   "outputs": [
    {
     "data": {
      "text/html": [
       "<div>\n",
       "<style scoped>\n",
       "    .dataframe tbody tr th:only-of-type {\n",
       "        vertical-align: middle;\n",
       "    }\n",
       "\n",
       "    .dataframe tbody tr th {\n",
       "        vertical-align: top;\n",
       "    }\n",
       "\n",
       "    .dataframe thead th {\n",
       "        text-align: right;\n",
       "    }\n",
       "</style>\n",
       "<table border=\"1\" class=\"dataframe\">\n",
       "  <thead>\n",
       "    <tr style=\"text-align: right;\">\n",
       "      <th></th>\n",
       "      <th>AFP</th>\n",
       "      <th>Input</th>\n",
       "      <th>Output</th>\n",
       "      <th>Enquiry</th>\n",
       "      <th>File</th>\n",
       "      <th>Interface</th>\n",
       "      <th>Added</th>\n",
       "      <th>Changed</th>\n",
       "      <th>Deleted</th>\n",
       "      <th>PDR_AFP</th>\n",
       "      <th>PDR_UFP</th>\n",
       "      <th>NPDR_AFP</th>\n",
       "      <th>NPDU_UFP</th>\n",
       "      <th>Resource</th>\n",
       "      <th>Duration</th>\n",
       "      <th>N_effort</th>\n",
       "      <th>Effort</th>\n",
       "    </tr>\n",
       "  </thead>\n",
       "  <tbody>\n",
       "    <tr>\n",
       "      <th>0</th>\n",
       "      <td>7.370231</td>\n",
       "      <td>6.652863</td>\n",
       "      <td>5.564520</td>\n",
       "      <td>5.831882</td>\n",
       "      <td>4.859812</td>\n",
       "      <td>0.000000</td>\n",
       "      <td>7.315218</td>\n",
       "      <td>0.000000</td>\n",
       "      <td>0.000000</td>\n",
       "      <td>1.740466</td>\n",
       "      <td>1.791759</td>\n",
       "      <td>1.740466</td>\n",
       "      <td>1.791759</td>\n",
       "      <td>4.0</td>\n",
       "      <td>1.609438</td>\n",
       "      <td>8.921458</td>\n",
       "      <td>7490.0</td>\n",
       "    </tr>\n",
       "    <tr>\n",
       "      <th>1</th>\n",
       "      <td>5.564520</td>\n",
       "      <td>2.302585</td>\n",
       "      <td>1.609438</td>\n",
       "      <td>1.386294</td>\n",
       "      <td>5.267858</td>\n",
       "      <td>3.737670</td>\n",
       "      <td>3.951244</td>\n",
       "      <td>4.934474</td>\n",
       "      <td>4.127134</td>\n",
       "      <td>2.833213</td>\n",
       "      <td>2.867899</td>\n",
       "      <td>2.833213</td>\n",
       "      <td>2.867899</td>\n",
       "      <td>2.0</td>\n",
       "      <td>2.890372</td>\n",
       "      <td>8.331105</td>\n",
       "      <td>4150.0</td>\n",
       "    </tr>\n",
       "    <tr>\n",
       "      <th>2</th>\n",
       "      <td>5.030438</td>\n",
       "      <td>3.258097</td>\n",
       "      <td>3.526361</td>\n",
       "      <td>3.367296</td>\n",
       "      <td>3.761200</td>\n",
       "      <td>3.583519</td>\n",
       "      <td>5.099866</td>\n",
       "      <td>0.000000</td>\n",
       "      <td>0.000000</td>\n",
       "      <td>1.686399</td>\n",
       "      <td>1.629241</td>\n",
       "      <td>1.686399</td>\n",
       "      <td>1.629241</td>\n",
       "      <td>1.0</td>\n",
       "      <td>2.302585</td>\n",
       "      <td>6.505784</td>\n",
       "      <td>668.0</td>\n",
       "    </tr>\n",
       "    <tr>\n",
       "      <th>3</th>\n",
       "      <td>5.533389</td>\n",
       "      <td>5.023881</td>\n",
       "      <td>3.367296</td>\n",
       "      <td>2.197225</td>\n",
       "      <td>3.688879</td>\n",
       "      <td>0.000000</td>\n",
       "      <td>4.248495</td>\n",
       "      <td>5.036953</td>\n",
       "      <td>1.609438</td>\n",
       "      <td>2.624669</td>\n",
       "      <td>2.727853</td>\n",
       "      <td>2.803360</td>\n",
       "      <td>2.906901</td>\n",
       "      <td>1.0</td>\n",
       "      <td>1.609438</td>\n",
       "      <td>8.269245</td>\n",
       "      <td>3238.0</td>\n",
       "    </tr>\n",
       "    <tr>\n",
       "      <th>4</th>\n",
       "      <td>5.680173</td>\n",
       "      <td>4.543295</td>\n",
       "      <td>0.000000</td>\n",
       "      <td>5.273000</td>\n",
       "      <td>3.044522</td>\n",
       "      <td>0.000000</td>\n",
       "      <td>0.000000</td>\n",
       "      <td>5.730100</td>\n",
       "      <td>0.000000</td>\n",
       "      <td>2.424803</td>\n",
       "      <td>2.379546</td>\n",
       "      <td>2.595255</td>\n",
       "      <td>2.541602</td>\n",
       "      <td>1.0</td>\n",
       "      <td>2.639057</td>\n",
       "      <td>8.190909</td>\n",
       "      <td>2994.0</td>\n",
       "    </tr>\n",
       "  </tbody>\n",
       "</table>\n",
       "</div>"
      ],
      "text/plain": [
       "        AFP     Input    Output   Enquiry      File  Interface     Added  \\\n",
       "0  7.370231  6.652863  5.564520  5.831882  4.859812   0.000000  7.315218   \n",
       "1  5.564520  2.302585  1.609438  1.386294  5.267858   3.737670  3.951244   \n",
       "2  5.030438  3.258097  3.526361  3.367296  3.761200   3.583519  5.099866   \n",
       "3  5.533389  5.023881  3.367296  2.197225  3.688879   0.000000  4.248495   \n",
       "4  5.680173  4.543295  0.000000  5.273000  3.044522   0.000000  0.000000   \n",
       "\n",
       "    Changed   Deleted   PDR_AFP   PDR_UFP  NPDR_AFP  NPDU_UFP  Resource  \\\n",
       "0  0.000000  0.000000  1.740466  1.791759  1.740466  1.791759       4.0   \n",
       "1  4.934474  4.127134  2.833213  2.867899  2.833213  2.867899       2.0   \n",
       "2  0.000000  0.000000  1.686399  1.629241  1.686399  1.629241       1.0   \n",
       "3  5.036953  1.609438  2.624669  2.727853  2.803360  2.906901       1.0   \n",
       "4  5.730100  0.000000  2.424803  2.379546  2.595255  2.541602       1.0   \n",
       "\n",
       "   Duration  N_effort  Effort  \n",
       "0  1.609438  8.921458  7490.0  \n",
       "1  2.890372  8.331105  4150.0  \n",
       "2  2.302585  6.505784   668.0  \n",
       "3  1.609438  8.269245  3238.0  \n",
       "4  2.639057  8.190909  2994.0  "
      ]
     },
     "execution_count": 19,
     "metadata": {},
     "output_type": "execute_result"
    }
   ],
   "source": [
    "ch2.head()"
   ]
  },
  {
   "cell_type": "markdown",
   "metadata": {},
   "source": [
    "##### Use Robust Scaler"
   ]
  },
  {
   "cell_type": "code",
   "execution_count": 20,
   "metadata": {},
   "outputs": [],
   "source": [
    "scaler = RobustScaler()\n",
    "minmax = MinMaxScaler()"
   ]
  },
  {
   "cell_type": "code",
   "execution_count": 21,
   "metadata": {},
   "outputs": [],
   "source": [
    "X2 = ch2.drop(['Effort', 'N_effort'], axis=1)\n",
    "y2 = ch2['Effort']\n",
    "\n",
    "X2_train, X2_test, y2_train, y2_test = train_test_split(X2, y2, test_size=0.2, random_state=42)"
   ]
  },
  {
   "cell_type": "code",
   "execution_count": 22,
   "metadata": {},
   "outputs": [],
   "source": [
    "X2_train_sc = scaler.fit_transform(X2_train)\n",
    "X2_test_sc = scaler.fit_transform(X2_test)"
   ]
  },
  {
   "cell_type": "markdown",
   "metadata": {},
   "source": [
    "## Feature Selection"
   ]
  },
  {
   "cell_type": "code",
   "execution_count": 23,
   "metadata": {
    "scrolled": true
   },
   "outputs": [
    {
     "data": {
      "text/plain": [
       "Lasso(max_iter=2000)"
      ]
     },
     "execution_count": 23,
     "metadata": {},
     "output_type": "execute_result"
    }
   ],
   "source": [
    "lasso = Lasso(max_iter=2000)\n",
    "lasso.fit(X2_train_sc, y2_train)"
   ]
  },
  {
   "cell_type": "code",
   "execution_count": 24,
   "metadata": {
    "scrolled": true
   },
   "outputs": [],
   "source": [
    "FI_lasso = pd.DataFrame({\"Feature Importance\":lasso.coef_}, index=X2.columns)"
   ]
  },
  {
   "cell_type": "code",
   "execution_count": 25,
   "metadata": {},
   "outputs": [
    {
     "data": {
      "text/html": [
       "<div>\n",
       "<style scoped>\n",
       "    .dataframe tbody tr th:only-of-type {\n",
       "        vertical-align: middle;\n",
       "    }\n",
       "\n",
       "    .dataframe tbody tr th {\n",
       "        vertical-align: top;\n",
       "    }\n",
       "\n",
       "    .dataframe thead th {\n",
       "        text-align: right;\n",
       "    }\n",
       "</style>\n",
       "<table border=\"1\" class=\"dataframe\">\n",
       "  <thead>\n",
       "    <tr style=\"text-align: right;\">\n",
       "      <th></th>\n",
       "      <th>Feature Importance</th>\n",
       "    </tr>\n",
       "  </thead>\n",
       "  <tbody>\n",
       "    <tr>\n",
       "      <th>AFP</th>\n",
       "      <td>8083.399115</td>\n",
       "    </tr>\n",
       "    <tr>\n",
       "      <th>PDR_UFP</th>\n",
       "      <td>3662.782571</td>\n",
       "    </tr>\n",
       "    <tr>\n",
       "      <th>NPDU_UFP</th>\n",
       "      <td>1959.206696</td>\n",
       "    </tr>\n",
       "    <tr>\n",
       "      <th>Resource</th>\n",
       "      <td>273.801742</td>\n",
       "    </tr>\n",
       "    <tr>\n",
       "      <th>NPDR_AFP</th>\n",
       "      <td>0.000000</td>\n",
       "    </tr>\n",
       "    <tr>\n",
       "      <th>Output</th>\n",
       "      <td>-137.061408</td>\n",
       "    </tr>\n",
       "    <tr>\n",
       "      <th>File</th>\n",
       "      <td>-139.455991</td>\n",
       "    </tr>\n",
       "    <tr>\n",
       "      <th>Input</th>\n",
       "      <td>-172.642879</td>\n",
       "    </tr>\n",
       "    <tr>\n",
       "      <th>Deleted</th>\n",
       "      <td>-197.889437</td>\n",
       "    </tr>\n",
       "    <tr>\n",
       "      <th>Duration</th>\n",
       "      <td>-409.454897</td>\n",
       "    </tr>\n",
       "    <tr>\n",
       "      <th>Added</th>\n",
       "      <td>-563.975498</td>\n",
       "    </tr>\n",
       "    <tr>\n",
       "      <th>Interface</th>\n",
       "      <td>-610.449903</td>\n",
       "    </tr>\n",
       "    <tr>\n",
       "      <th>PDR_AFP</th>\n",
       "      <td>-950.641124</td>\n",
       "    </tr>\n",
       "    <tr>\n",
       "      <th>Enquiry</th>\n",
       "      <td>-1250.205939</td>\n",
       "    </tr>\n",
       "    <tr>\n",
       "      <th>Changed</th>\n",
       "      <td>-1578.457951</td>\n",
       "    </tr>\n",
       "  </tbody>\n",
       "</table>\n",
       "</div>"
      ],
      "text/plain": [
       "           Feature Importance\n",
       "AFP               8083.399115\n",
       "PDR_UFP           3662.782571\n",
       "NPDU_UFP          1959.206696\n",
       "Resource           273.801742\n",
       "NPDR_AFP             0.000000\n",
       "Output            -137.061408\n",
       "File              -139.455991\n",
       "Input             -172.642879\n",
       "Deleted           -197.889437\n",
       "Duration          -409.454897\n",
       "Added             -563.975498\n",
       "Interface         -610.449903\n",
       "PDR_AFP           -950.641124\n",
       "Enquiry          -1250.205939\n",
       "Changed          -1578.457951"
      ]
     },
     "execution_count": 25,
     "metadata": {},
     "output_type": "execute_result"
    }
   ],
   "source": [
    "FI_lasso.sort_values(\"Feature Importance\",ascending=False)"
   ]
  },
  {
   "cell_type": "code",
   "execution_count": 26,
   "metadata": {},
   "outputs": [
    {
     "data": {
      "image/png": "[encoded data removed]",
      "text/plain": [
       "<Figure size 1080x360 with 1 Axes>"
      ]
     },
     "metadata": {},
     "output_type": "display_data"
    }
   ],
   "source": [
    "FI_lasso[FI_lasso[\"Feature Importance\"]!=0].sort_values(\"Feature Importance\").plot(kind=\"barh\",figsize=(15,5))\n",
    "plt.xticks(rotation=90)\n",
    "plt.show()"
   ]
  },
  {
   "cell_type": "markdown",
   "metadata": {},
   "source": [
    "##### Mutual Info Regression"
   ]
  },
  {
   "cell_type": "code",
   "execution_count": 27,
   "metadata": {},
   "outputs": [
    {
     "data": {
      "text/plain": [
       "AFP          0.291306\n",
       "PDR_AFP      0.240214\n",
       "Added        0.218308\n",
       "PDR_UFP      0.216658\n",
       "NPDU_UFP     0.214275\n",
       "Enquiry      0.198759\n",
       "NPDR_AFP     0.198575\n",
       "Input        0.193941\n",
       "Duration     0.166270\n",
       "File         0.146007\n",
       "Output       0.087052\n",
       "Changed      0.086805\n",
       "Resource     0.031711\n",
       "Deleted      0.019883\n",
       "Interface    0.016013\n",
       "dtype: float64"
      ]
     },
     "execution_count": 27,
     "metadata": {},
     "output_type": "execute_result"
    }
   ],
   "source": [
    "X_mir = ch.drop(['Effort', 'N_effort'], axis=1)\n",
    "y_mir = ch['Effort']\n",
    "\n",
    "mutual_info = mutual_info_regression(X_mir, y_mir)\n",
    "mutual_info = pd.Series(mutual_info)\n",
    "mutual_info.index = X_mir.columns\n",
    "mutual_info.sort_values(ascending=False)"
   ]
  },
  {
   "cell_type": "code",
   "execution_count": 28,
   "metadata": {},
   "outputs": [
    {
     "data": {
      "text/plain": [
       "<AxesSubplot:>"
      ]
     },
     "execution_count": 28,
     "metadata": {},
     "output_type": "execute_result"
    },
    {
     "data": {
      "image/png": "[encoded data removed]",
      "text/plain": [
       "<Figure size 1080x360 with 1 Axes>"
      ]
     },
     "metadata": {},
     "output_type": "display_data"
    }
   ],
   "source": [
    "mutual_info.sort_values(ascending=False).plot.bar(figsize=(15,5))"
   ]
  },
  {
   "cell_type": "code",
   "execution_count": 29,
   "metadata": {},
   "outputs": [
    {
     "data": {
      "text/plain": [
       "Index(['AFP', 'Added', 'PDR_AFP', 'PDR_UFP', 'NPDU_UFP'], dtype='object')"
      ]
     },
     "execution_count": 29,
     "metadata": {},
     "output_type": "execute_result"
    }
   ],
   "source": [
    "from sklearn.feature_selection import SelectPercentile\n",
    "selected_top_columns = SelectPercentile(mutual_info_regression, percentile=30)\n",
    "selected_top_columns.fit(X_mir, y_mir)\n",
    "X_mir.columns[selected_top_columns.get_support()]"
   ]
  },
  {
   "cell_type": "code",
   "execution_count": 30,
   "metadata": {},
   "outputs": [],
   "source": [
    "features = ['AFP', 'PDR_UFP', 'NPDU_UFP', 'Resource', 'Added', 'PDR_AFP']"
   ]
  },
  {
   "cell_type": "markdown",
   "metadata": {},
   "source": [
    "## Modeling and Evaluation"
   ]
  },
  {
   "cell_type": "code",
   "execution_count": 31,
   "metadata": {},
   "outputs": [],
   "source": [
    "def mae(model, X, y):\n",
    "    mae = (-cross_val_score(model, X, y, scoring='neg_mean_absolute_error', cv=3))\n",
    "    return mae\n",
    "\n",
    "def rmse(model, X, y):\n",
    "    rmse = np.sqrt(-cross_val_score(model, X, y, scoring='neg_mean_squared_error', cv=3))\n",
    "    return rmse\n",
    "\n",
    "def r2(model, X, y):\n",
    "    r2 = (cross_val_score(model, X, y, scoring='r2', cv=3))\n",
    "    return r2"
   ]
  },
  {
   "cell_type": "markdown",
   "metadata": {},
   "source": [
    "Models with 3-fold cross-validation\n",
    "\n",
    "- Linear Regression\n",
    "- Lasso Regression\n",
    "- Ridge Regression\n",
    "- Elastic Net\n",
    "- SGD Regressor\n",
    "- SVR\n",
    "- K-Neighbors\n",
    "- Decision Tree\n",
    "- Gradient Boosting\n",
    "- Random Forest\n",
    "- MLP"
   ]
  },
  {
   "cell_type": "code",
   "execution_count": 32,
   "metadata": {},
   "outputs": [],
   "source": [
    "X2 = ch2[features]\n",
    "y2 = ch2['Effort']\n",
    "\n",
    "X2_train, X2_test, y2_train, y2_test = train_test_split(X2, y2, test_size=0.2, random_state=42)"
   ]
  },
  {
   "cell_type": "code",
   "execution_count": 33,
   "metadata": {},
   "outputs": [],
   "source": [
    "X2_train_sc = scaler.fit_transform(X2_train)\n",
    "X2_test_sc = scaler.fit_transform(X2_test)"
   ]
  },
  {
   "cell_type": "code",
   "execution_count": 34,
   "metadata": {},
   "outputs": [],
   "source": [
    "models = [LinearRegression(), Lasso(max_iter=5000), Ridge(), ElasticNet(), SGDRegressor(), SVR(), KNeighborsRegressor(), DecisionTreeRegressor(), GradientBoostingRegressor(), RandomForestRegressor(), ExtraTreesRegressor(), MLPRegressor(hidden_layer_sizes=(6,6), max_iter=5000)]"
   ]
  },
  {
   "cell_type": "code",
   "execution_count": 35,
   "metadata": {
    "scrolled": false
   },
   "outputs": [
    {
     "name": "stdout",
     "output_type": "stream",
     "text": [
      "LR: 2807.607433, 4197.388120, 0.5840, 1226.0729474729817\n",
      "LasR: 2804.605426, 4193.830492, 0.5848, 1225.0673918160242\n",
      "RR: 2788.309199, 4178.265794, 0.5886, 1237.4168140982758\n",
      "EN: 2547.640847, 4538.745245, 0.5259, 1665.4868409002763\n",
      "SGD: 2790.635880, 4170.419375, 0.5886, 1237.4731160967465\n",
      "SVR: 3290.624922, 6829.287099, -0.1183, 1745.1030934396067\n",
      "KN: 1260.861654, 3298.634638, 0.7529, 1571.217935329575\n",
      "DT: 1463.122807, 4359.495574, 0.5607, 107.07834942734752\n",
      "GB: 1085.927859, 2850.800607, 0.8094, 1008.8470072903514\n",
      "RF: 1042.892331, 3086.490766, 0.7748, 1302.4959279031684\n",
      "ET: 681.679173, 2158.581694, 0.8903, 1489.7910393210952\n"
     ]
    },
    {
     "name": "stderr",
     "output_type": "stream",
     "text": [
      "Q:\\anaconda3\\lib\\site-packages\\sklearn\\neural_network\\_multilayer_perceptron.py:582: ConvergenceWarning: Stochastic Optimizer: Maximum iterations (5000) reached and the optimization hasn't converged yet.\n",
      "  warnings.warn(\n",
      "Q:\\anaconda3\\lib\\site-packages\\sklearn\\neural_network\\_multilayer_perceptron.py:582: ConvergenceWarning: Stochastic Optimizer: Maximum iterations (5000) reached and the optimization hasn't converged yet.\n",
      "  warnings.warn(\n",
      "Q:\\anaconda3\\lib\\site-packages\\sklearn\\neural_network\\_multilayer_perceptron.py:582: ConvergenceWarning: Stochastic Optimizer: Maximum iterations (5000) reached and the optimization hasn't converged yet.\n",
      "  warnings.warn(\n",
      "Q:\\anaconda3\\lib\\site-packages\\sklearn\\neural_network\\_multilayer_perceptron.py:582: ConvergenceWarning: Stochastic Optimizer: Maximum iterations (5000) reached and the optimization hasn't converged yet.\n",
      "  warnings.warn(\n",
      "Q:\\anaconda3\\lib\\site-packages\\sklearn\\neural_network\\_multilayer_perceptron.py:582: ConvergenceWarning: Stochastic Optimizer: Maximum iterations (5000) reached and the optimization hasn't converged yet.\n",
      "  warnings.warn(\n",
      "Q:\\anaconda3\\lib\\site-packages\\sklearn\\neural_network\\_multilayer_perceptron.py:582: ConvergenceWarning: Stochastic Optimizer: Maximum iterations (5000) reached and the optimization hasn't converged yet.\n",
      "  warnings.warn(\n",
      "Q:\\anaconda3\\lib\\site-packages\\sklearn\\neural_network\\_multilayer_perceptron.py:582: ConvergenceWarning: Stochastic Optimizer: Maximum iterations (5000) reached and the optimization hasn't converged yet.\n",
      "  warnings.warn(\n",
      "Q:\\anaconda3\\lib\\site-packages\\sklearn\\neural_network\\_multilayer_perceptron.py:582: ConvergenceWarning: Stochastic Optimizer: Maximum iterations (5000) reached and the optimization hasn't converged yet.\n",
      "  warnings.warn(\n"
     ]
    },
    {
     "name": "stdout",
     "output_type": "stream",
     "text": [
      "MLP: 1811.258943, 2949.921469, 0.8034, 736.2757869692445\n"
     ]
    },
    {
     "name": "stderr",
     "output_type": "stream",
     "text": [
      "Q:\\anaconda3\\lib\\site-packages\\sklearn\\neural_network\\_multilayer_perceptron.py:582: ConvergenceWarning: Stochastic Optimizer: Maximum iterations (5000) reached and the optimization hasn't converged yet.\n",
      "  warnings.warn(\n"
     ]
    }
   ],
   "source": [
    "names = ['LR', 'LasR', 'RR', 'EN', 'SGD', 'SVR', 'KN', 'DT', 'GB', 'RF', 'ET', 'MLP']\n",
    "for name, model in zip(names, models):\n",
    "    score = (mae(model, X2_train_sc, y2_train), rmse(model, X2_train_sc, y2_train), r2(model, X2_train_sc, y2_train))\n",
    "    print('{}: {:.6f}, {:.6f}, {:.4f}, {}'.format(name, score[0].mean(), score[1].mean(), score[2].mean(), score[1].std()))"
   ]
  },
  {
   "cell_type": "markdown",
   "metadata": {},
   "source": [
    "### Hyperparameter tuning using GridSearchCV"
   ]
  },
  {
   "cell_type": "code",
   "execution_count": 36,
   "metadata": {},
   "outputs": [],
   "source": [
    "def grid(model, param_grid):\n",
    "    grid = GridSearchCV(model, param_grid, cv=5, verbose=3, n_jobs=-1)\n",
    "    grid.fit(X2_train_sc, y2_train)\n",
    "    print('Best Parameters: {}'.format(grid.best_params_))\n",
    "    print('Best Estimator: {}'.format(grid.best_estimator_))\n",
    "    grid_predictions = grid.predict(X2_test_sc)\n",
    "    pred_score = (metrics.mean_absolute_error(y2_test, grid_predictions), np.sqrt(metrics.mean_squared_error(y2_test, grid_predictions)), metrics.r2_score(y2_test, grid_predictions)) \n",
    "    print('Predictions: MAE: {:.6f}, RMSE: {:.6f}, R2_Score: {:.4f}'.format(pred_score[0], pred_score[1], pred_score[2]))\n",
    "    \n",
    "    fig = plt.figure(figsize=(12, 6))\n",
    "    plt.scatter(y2_test, grid_predictions)\n",
    "    plt.xlabel('Effort') \n",
    "    plt.ylabel('Predictions') \n",
    "    plt.grid()\n",
    "    plt.show()"
   ]
  },
  {
   "cell_type": "markdown",
   "metadata": {},
   "source": [
    "### K-Neighbors Tuning"
   ]
  },
  {
   "cell_type": "code",
   "execution_count": 37,
   "metadata": {
    "scrolled": false
   },
   "outputs": [
    {
     "name": "stderr",
     "output_type": "stream",
     "text": [
      "[Parallel(n_jobs=-1)]: Using backend LokyBackend with 8 concurrent workers.\n"
     ]
    },
    {
     "name": "stdout",
     "output_type": "stream",
     "text": [
      "Fitting 5 folds for each of 10 candidates, totalling 50 fits\n"
     ]
    },
    {
     "name": "stderr",
     "output_type": "stream",
     "text": [
      "[Parallel(n_jobs=-1)]: Done  16 tasks      | elapsed:    3.3s\n",
      "[Parallel(n_jobs=-1)]: Done  50 out of  50 | elapsed:    3.4s finished\n"
     ]
    },
    {
     "name": "stdout",
     "output_type": "stream",
     "text": [
      "Best Parameters: {'n_neighbors': 7, 'weights': 'distance'}\n",
      "Best Estimator: KNeighborsRegressor(n_neighbors=7, weights='distance')\n",
      "Predictions: MAE: 683.637835, RMSE: 2433.012875, R2_Score: 0.8031\n"
     ]
    },
    {
     "data": {
      "image/png": "[encoded data removed]",
      "text/plain": [
       "<Figure size 864x432 with 1 Axes>"
      ]
     },
     "metadata": {},
     "output_type": "display_data"
    }
   ],
   "source": [
    "kn_param_grid = {'n_neighbors':[3,5,7,9,10],\n",
    "                'weights':['uniform', 'distance']}\n",
    "\n",
    "grid(KNeighborsRegressor(), kn_param_grid)"
   ]
  },
  {
   "cell_type": "markdown",
   "metadata": {},
   "source": [
    "### Decision Tree Tuning"
   ]
  },
  {
   "cell_type": "code",
   "execution_count": 38,
   "metadata": {},
   "outputs": [
    {
     "name": "stdout",
     "output_type": "stream",
     "text": [
      "Fitting 5 folds for each of 4 candidates, totalling 20 fits\n",
      "Best Parameters: {'criterion': 'mse', 'max_features': 'auto', 'splitter': 'random'}\n",
      "Best Estimator: DecisionTreeRegressor(max_features='auto', splitter='random')\n",
      "Predictions: MAE: 740.610000, RMSE: 1834.309698, R2_Score: 0.8881\n"
     ]
    },
    {
     "name": "stderr",
     "output_type": "stream",
     "text": [
      "[Parallel(n_jobs=-1)]: Using backend LokyBackend with 8 concurrent workers.\n",
      "[Parallel(n_jobs=-1)]: Done  12 out of  20 | elapsed:    0.0s remaining:    0.0s\n",
      "[Parallel(n_jobs=-1)]: Done  20 out of  20 | elapsed:    0.0s finished\n"
     ]
    },
    {
     "data": {
      "image/png": "[encoded data removed]",
      "text/plain": [
       "<Figure size 864x432 with 1 Axes>"
      ]
     },
     "metadata": {},
     "output_type": "display_data"
    }
   ],
   "source": [
    "dt_param_grid = {'criterion':['mse', 'mae'],\n",
    "                'max_features':['auto'],\n",
    "                'splitter':['best', 'random']}\n",
    "\n",
    "grid(DecisionTreeRegressor(), dt_param_grid)"
   ]
  },
  {
   "cell_type": "markdown",
   "metadata": {},
   "source": [
    "### Gradient Boosting Tuning"
   ]
  },
  {
   "cell_type": "code",
   "execution_count": 39,
   "metadata": {},
   "outputs": [
    {
     "name": "stdout",
     "output_type": "stream",
     "text": [
      "Fitting 5 folds for each of 24 candidates, totalling 120 fits\n"
     ]
    },
    {
     "name": "stderr",
     "output_type": "stream",
     "text": [
      "[Parallel(n_jobs=-1)]: Using backend LokyBackend with 8 concurrent workers.\n",
      "[Parallel(n_jobs=-1)]: Done  16 tasks      | elapsed:    0.4s\n",
      "[Parallel(n_jobs=-1)]: Done 105 out of 120 | elapsed:    4.2s remaining:    0.5s\n",
      "[Parallel(n_jobs=-1)]: Done 120 out of 120 | elapsed:    5.0s finished\n"
     ]
    },
    {
     "name": "stdout",
     "output_type": "stream",
     "text": [
      "Best Parameters: {'alpha': 0.9, 'criterion': 'mae', 'loss': 'ls', 'max_features': 'auto', 'n_estimators': 100}\n",
      "Best Estimator: GradientBoostingRegressor(criterion='mae', max_features='auto')\n",
      "Predictions: MAE: 632.667780, RMSE: 2089.974529, R2_Score: 0.8547\n"
     ]
    },
    {
     "data": {
      "image/png": "[encoded data removed]",
      "text/plain": [
       "<Figure size 864x432 with 1 Axes>"
      ]
     },
     "metadata": {},
     "output_type": "display_data"
    }
   ],
   "source": [
    "gb_param_grid = {'loss':['ls', 'lad'],\n",
    "                'n_estimators':[70,100],\n",
    "                'criterion':['mse', 'mae'],\n",
    "                'max_features':['auto'],\n",
    "                'alpha':[0.5,0.9,2]}\n",
    "\n",
    "grid(GradientBoostingRegressor(), gb_param_grid)"
   ]
  },
  {
   "cell_type": "markdown",
   "metadata": {},
   "source": [
    "### Random Forest Tuning"
   ]
  },
  {
   "cell_type": "code",
   "execution_count": 40,
   "metadata": {},
   "outputs": [
    {
     "name": "stdout",
     "output_type": "stream",
     "text": [
      "Fitting 5 folds for each of 6 candidates, totalling 30 fits\n"
     ]
    },
    {
     "name": "stderr",
     "output_type": "stream",
     "text": [
      "[Parallel(n_jobs=-1)]: Using backend LokyBackend with 8 concurrent workers.\n",
      "[Parallel(n_jobs=-1)]: Done  26 out of  30 | elapsed:    2.1s remaining:    0.2s\n",
      "[Parallel(n_jobs=-1)]: Done  30 out of  30 | elapsed:    2.3s finished\n"
     ]
    },
    {
     "name": "stdout",
     "output_type": "stream",
     "text": [
      "Best Parameters: {'criterion': 'mae', 'n_estimators': 100}\n",
      "Best Estimator: RandomForestRegressor(criterion='mae')\n",
      "Predictions: MAE: 578.978900, RMSE: 2135.563349, R2_Score: 0.8483\n"
     ]
    },
    {
     "data": {
      "image/png": "[encoded data removed]",
      "text/plain": [
       "<Figure size 864x432 with 1 Axes>"
      ]
     },
     "metadata": {},
     "output_type": "display_data"
    }
   ],
   "source": [
    "rf_param_grid = {'n_estimators':[40,70,100],\n",
    "                'criterion':['mae', 'mse']}\n",
    "\n",
    "grid(RandomForestRegressor(), rf_param_grid)"
   ]
  },
  {
   "cell_type": "markdown",
   "metadata": {},
   "source": [
    "### Extra Trees Tuning"
   ]
  },
  {
   "cell_type": "code",
   "execution_count": 41,
   "metadata": {},
   "outputs": [
    {
     "name": "stdout",
     "output_type": "stream",
     "text": [
      "Fitting 5 folds for each of 8 candidates, totalling 40 fits\n"
     ]
    },
    {
     "name": "stderr",
     "output_type": "stream",
     "text": [
      "[Parallel(n_jobs=-1)]: Using backend LokyBackend with 8 concurrent workers.\n",
      "[Parallel(n_jobs=-1)]: Done  16 tasks      | elapsed:    1.1s\n",
      "[Parallel(n_jobs=-1)]: Done  40 out of  40 | elapsed:    2.1s finished\n"
     ]
    },
    {
     "name": "stdout",
     "output_type": "stream",
     "text": [
      "Best Parameters: {'criterion': 'mse', 'n_estimators': 50}\n",
      "Best Estimator: ExtraTreesRegressor(n_estimators=50)\n",
      "Predictions: MAE: 507.119200, RMSE: 1924.947072, R2_Score: 0.8767\n"
     ]
    },
    {
     "data": {
      "image/png": "[encoded data removed]",
      "text/plain": [
       "<Figure size 864x432 with 1 Axes>"
      ]
     },
     "metadata": {},
     "output_type": "display_data"
    }
   ],
   "source": [
    "et_param_grid = {'n_estimators':[20,50,70,100],\n",
    "                'criterion':['mae', 'mse']}\n",
    "\n",
    "grid(ExtraTreesRegressor(), et_param_grid)"
   ]
  },
  {
   "cell_type": "markdown",
   "metadata": {},
   "source": [
    "### MLP Tuning"
   ]
  },
  {
   "cell_type": "code",
   "execution_count": 42,
   "metadata": {},
   "outputs": [
    {
     "name": "stdout",
     "output_type": "stream",
     "text": [
      "Fitting 5 folds for each of 12 candidates, totalling 60 fits\n"
     ]
    },
    {
     "name": "stderr",
     "output_type": "stream",
     "text": [
      "[Parallel(n_jobs=-1)]: Using backend LokyBackend with 8 concurrent workers.\n",
      "[Parallel(n_jobs=-1)]: Done  19 tasks      | elapsed:    2.5s\n",
      "[Parallel(n_jobs=-1)]: Done  45 out of  60 | elapsed:    6.2s remaining:    2.0s\n",
      "[Parallel(n_jobs=-1)]: Done  60 out of  60 | elapsed:    7.2s finished\n"
     ]
    },
    {
     "name": "stdout",
     "output_type": "stream",
     "text": [
      "Best Parameters: {'activation': 'relu', 'alpha': 0.001, 'early_stopping': True, 'hidden_layer_sizes': (6, 6), 'max_iter': 5000, 'solver': 'lbfgs'}\n",
      "Best Estimator: MLPRegressor(alpha=0.001, early_stopping=True, hidden_layer_sizes=(6, 6),\n",
      "             max_iter=5000, solver='lbfgs')\n",
      "Predictions: MAE: 358.678615, RMSE: 1162.643949, R2_Score: 0.9550\n"
     ]
    },
    {
     "data": {
      "image/png": "[encoded data removed]",
      "text/plain": [
       "<Figure size 864x432 with 1 Axes>"
      ]
     },
     "metadata": {},
     "output_type": "display_data"
    }
   ],
   "source": [
    "mlp_param_grid = {'hidden_layer_sizes':[(6,6)],\n",
    "                 'activation':['relu'],\n",
    "                 'solver':['lbfgs', 'adam'],\n",
    "                 'alpha':[0.0001,0.001,0.01],\n",
    "                 'max_iter':[2000, 5000],\n",
    "                 'early_stopping':[True]}\n",
    "\n",
    "grid(MLPRegressor(), mlp_param_grid)"
   ]
  },
  {
   "cell_type": "markdown",
   "metadata": {},
   "source": [
    "## Ensemble Methods"
   ]
  },
  {
   "cell_type": "code",
   "execution_count": 43,
   "metadata": {},
   "outputs": [],
   "source": [
    "kn = KNeighborsRegressor(n_neighbors=7, weights='distance')\n",
    "dt = DecisionTreeRegressor(criterion='mae', max_features='auto')\n",
    "gb = GradientBoostingRegressor(alpha=0.5, criterion='mae', max_features='auto')\n",
    "rf = RandomForestRegressor(criterion='mae', n_estimators=70)\n",
    "et = ExtraTreesRegressor(n_estimators=70)\n",
    "mlp = MLPRegressor(alpha=0.001, hidden_layer_sizes=(6, 6), max_iter=5000, solver='lbfgs')"
   ]
  },
  {
   "cell_type": "markdown",
   "metadata": {},
   "source": [
    "### Bagging"
   ]
  },
  {
   "cell_type": "code",
   "execution_count": 44,
   "metadata": {
    "scrolled": false
   },
   "outputs": [
    {
     "name": "stdout",
     "output_type": "stream",
     "text": [
      "Bagging with base regressor: KNeighbors\n",
      "Predictions: MAE: 691.053522, RMSE: 2398.433384, R2_Score: 0.8086\n",
      "\n",
      "Bagging with base regressor: Decision Tree\n",
      "Predictions: MAE: 598.391000, RMSE: 1939.387658, R2_Score: 0.8749\n",
      "\n",
      "Bagging with base regressor: Gradient Boosting\n",
      "Predictions: MAE: 546.888686, RMSE: 1722.687542, R2_Score: 0.9013\n",
      "\n",
      "Bagging with base regressor: Random Forest\n",
      "Predictions: MAE: 641.829293, RMSE: 2176.544415, R2_Score: 0.8424\n",
      "\n",
      "Bagging with base regressor: Extra Trees\n",
      "Predictions: MAE: 526.166171, RMSE: 2016.344269, R2_Score: 0.8647\n",
      "\n",
      "Bagging with base regressor: MLP\n",
      "Predictions: MAE: 379.694373, RMSE: 1292.366662, R2_Score: 0.9444\n",
      "\n"
     ]
    }
   ],
   "source": [
    "estimators = [kn, dt, gb, rf, et, mlp]\n",
    "es_names = ['KNeighbors', 'Decision Tree', 'Gradient Boosting', 'Random Forest', 'Extra Trees', 'MLP']\n",
    "for name, estimator in zip(es_names, estimators):\n",
    "    print('Bagging with base regressor: {}'.format(name))\n",
    "    bag = BaggingRegressor(base_estimator=estimator)\n",
    "    bag.fit(X2_train_sc, y2_train)\n",
    "    bag_predict = bag.predict(X2_test_sc)\n",
    "    bag_score = (metrics.mean_absolute_error(y2_test, bag_predict), np.sqrt(metrics.mean_squared_error(y2_test, bag_predict)), metrics.r2_score(y2_test, bag_predict))\n",
    "    print('Predictions: MAE: {:.6f}, RMSE: {:.6f}, R2_Score: {:.4f}\\n'.format(bag_score[0], bag_score[1], bag_score[2]))"
   ]
  },
  {
   "cell_type": "markdown",
   "metadata": {},
   "source": [
    "### AdaBoost"
   ]
  },
  {
   "cell_type": "code",
   "execution_count": 45,
   "metadata": {},
   "outputs": [],
   "source": [
    "def boost(model, param_grid):\n",
    "    boost = GridSearchCV(model, param_grid, cv=5, verbose=3, n_jobs=-1)\n",
    "    boost.fit(X2_train_sc, y2_train)\n",
    "    print('Best Parameters: {}'.format(boost.best_params_))\n",
    "    print('Best Estimator: {}'.format(boost.best_estimator_))\n",
    "    boost_predictions = boost.predict(X2_test_sc)\n",
    "    boost_score = (metrics.mean_absolute_error(y2_test, boost_predictions), np.sqrt(metrics.mean_squared_error(y2_test, boost_predictions)), metrics.r2_score(y2_test, boost_predictions)) \n",
    "    print('Predictions: MAE: {:.6f}, RMSE: {:.6f}, R2_Score: {:.4f}\\n'.format(boost_score[0], boost_score[1], boost_score[2]))"
   ]
  },
  {
   "cell_type": "code",
   "execution_count": 46,
   "metadata": {
    "scrolled": false
   },
   "outputs": [
    {
     "name": "stdout",
     "output_type": "stream",
     "text": [
      "AdaBoost with base regressor: KNeighbors\n",
      "Fitting 5 folds for each of 4 candidates, totalling 20 fits\n"
     ]
    },
    {
     "name": "stderr",
     "output_type": "stream",
     "text": [
      "[Parallel(n_jobs=-1)]: Using backend LokyBackend with 8 concurrent workers.\n",
      "[Parallel(n_jobs=-1)]: Done  12 out of  20 | elapsed:    0.8s remaining:    0.5s\n",
      "[Parallel(n_jobs=-1)]: Done  20 out of  20 | elapsed:    1.1s finished\n"
     ]
    },
    {
     "name": "stdout",
     "output_type": "stream",
     "text": [
      "Best Parameters: {'base_estimator': KNeighborsRegressor(n_neighbors=7, weights='distance'), 'loss': 'linear', 'n_estimators': 50}\n",
      "Best Estimator: AdaBoostRegressor(base_estimator=KNeighborsRegressor(n_neighbors=7,\n",
      "                                                     weights='distance'))\n",
      "Predictions: MAE: 864.851111, RMSE: 1834.761552, R2_Score: 0.8880\n",
      "\n",
      "AdaBoost with base regressor: Decision Tree\n",
      "Fitting 5 folds for each of 4 candidates, totalling 20 fits\n"
     ]
    },
    {
     "name": "stderr",
     "output_type": "stream",
     "text": [
      "[Parallel(n_jobs=-1)]: Using backend LokyBackend with 8 concurrent workers.\n",
      "[Parallel(n_jobs=-1)]: Done  12 out of  20 | elapsed:    1.3s remaining:    0.8s\n",
      "[Parallel(n_jobs=-1)]: Done  20 out of  20 | elapsed:    1.7s finished\n"
     ]
    },
    {
     "name": "stdout",
     "output_type": "stream",
     "text": [
      "Best Parameters: {'base_estimator': DecisionTreeRegressor(criterion='mae', max_features='auto'), 'loss': 'linear', 'n_estimators': 70}\n",
      "Best Estimator: AdaBoostRegressor(base_estimator=DecisionTreeRegressor(criterion='mae',\n",
      "                                                       max_features='auto'),\n",
      "                  n_estimators=70)\n",
      "Predictions: MAE: 779.450000, RMSE: 2168.823421, R2_Score: 0.8435\n",
      "\n",
      "AdaBoost with base regressor: Gradient Boosting\n",
      "Fitting 5 folds for each of 4 candidates, totalling 20 fits\n"
     ]
    },
    {
     "name": "stderr",
     "output_type": "stream",
     "text": [
      "[Parallel(n_jobs=-1)]: Using backend LokyBackend with 8 concurrent workers.\n",
      "[Parallel(n_jobs=-1)]: Done  12 out of  20 | elapsed:  1.2min remaining:   48.1s\n",
      "[Parallel(n_jobs=-1)]: Done  20 out of  20 | elapsed:  1.6min finished\n"
     ]
    },
    {
     "name": "stdout",
     "output_type": "stream",
     "text": [
      "Best Parameters: {'base_estimator': GradientBoostingRegressor(alpha=0.5, criterion='mae', max_features='auto'), 'loss': 'linear', 'n_estimators': 50}\n",
      "Best Estimator: AdaBoostRegressor(base_estimator=GradientBoostingRegressor(alpha=0.5,\n",
      "                                                           criterion='mae',\n",
      "                                                           max_features='auto'))\n",
      "Predictions: MAE: 758.316395, RMSE: 1883.298323, R2_Score: 0.8820\n",
      "\n",
      "AdaBoost with base regressor: Random Forest\n",
      "Fitting 5 folds for each of 4 candidates, totalling 20 fits\n"
     ]
    },
    {
     "name": "stderr",
     "output_type": "stream",
     "text": [
      "[Parallel(n_jobs=-1)]: Using backend LokyBackend with 8 concurrent workers.\n",
      "[Parallel(n_jobs=-1)]: Done  12 out of  20 | elapsed:  1.1min remaining:   44.7s\n",
      "[Parallel(n_jobs=-1)]: Done  20 out of  20 | elapsed:  1.5min finished\n"
     ]
    },
    {
     "name": "stdout",
     "output_type": "stream",
     "text": [
      "Best Parameters: {'base_estimator': RandomForestRegressor(criterion='mae', n_estimators=70), 'loss': 'linear', 'n_estimators': 70}\n",
      "Best Estimator: AdaBoostRegressor(base_estimator=RandomForestRegressor(criterion='mae',\n",
      "                                                       n_estimators=70),\n",
      "                  n_estimators=70)\n",
      "Predictions: MAE: 726.117643, RMSE: 2042.632871, R2_Score: 0.8612\n",
      "\n",
      "AdaBoost with base regressor: Extra Trees\n",
      "Fitting 5 folds for each of 4 candidates, totalling 20 fits\n"
     ]
    },
    {
     "name": "stderr",
     "output_type": "stream",
     "text": [
      "[Parallel(n_jobs=-1)]: Using backend LokyBackend with 8 concurrent workers.\n",
      "[Parallel(n_jobs=-1)]: Done  12 out of  20 | elapsed:   19.7s remaining:   13.1s\n",
      "[Parallel(n_jobs=-1)]: Done  20 out of  20 | elapsed:   26.6s finished\n"
     ]
    },
    {
     "name": "stdout",
     "output_type": "stream",
     "text": [
      "Best Parameters: {'base_estimator': ExtraTreesRegressor(n_estimators=70), 'loss': 'linear', 'n_estimators': 50}\n",
      "Best Estimator: AdaBoostRegressor(base_estimator=ExtraTreesRegressor(n_estimators=70))\n",
      "Predictions: MAE: 643.695714, RMSE: 1993.580989, R2_Score: 0.8678\n",
      "\n",
      "AdaBoost with base regressor: MLP\n",
      "Fitting 5 folds for each of 4 candidates, totalling 20 fits\n"
     ]
    },
    {
     "name": "stderr",
     "output_type": "stream",
     "text": [
      "[Parallel(n_jobs=-1)]: Using backend LokyBackend with 8 concurrent workers.\n",
      "[Parallel(n_jobs=-1)]: Done  12 out of  20 | elapsed:  3.1min remaining:  2.1min\n",
      "[Parallel(n_jobs=-1)]: Done  20 out of  20 | elapsed:  4.7min finished\n",
      "Q:\\anaconda3\\lib\\site-packages\\sklearn\\neural_network\\_multilayer_perceptron.py:471: ConvergenceWarning: lbfgs failed to converge (status=1):\n",
      "STOP: TOTAL NO. of ITERATIONS REACHED LIMIT.\n",
      "\n",
      "Increase the number of iterations (max_iter) or scale the data as shown in:\n",
      "    https://scikit-learn.org/stable/modules/preprocessing.html\n",
      "  self.n_iter_ = _check_optimize_result(\"lbfgs\", opt_res, self.max_iter)\n",
      "Q:\\anaconda3\\lib\\site-packages\\sklearn\\neural_network\\_multilayer_perceptron.py:471: ConvergenceWarning: lbfgs failed to converge (status=1):\n",
      "STOP: TOTAL NO. of ITERATIONS REACHED LIMIT.\n",
      "\n",
      "Increase the number of iterations (max_iter) or scale the data as shown in:\n",
      "    https://scikit-learn.org/stable/modules/preprocessing.html\n",
      "  self.n_iter_ = _check_optimize_result(\"lbfgs\", opt_res, self.max_iter)\n",
      "Q:\\anaconda3\\lib\\site-packages\\sklearn\\neural_network\\_multilayer_perceptron.py:471: ConvergenceWarning: lbfgs failed to converge (status=1):\n",
      "STOP: TOTAL NO. of ITERATIONS REACHED LIMIT.\n",
      "\n",
      "Increase the number of iterations (max_iter) or scale the data as shown in:\n",
      "    https://scikit-learn.org/stable/modules/preprocessing.html\n",
      "  self.n_iter_ = _check_optimize_result(\"lbfgs\", opt_res, self.max_iter)\n"
     ]
    },
    {
     "name": "stdout",
     "output_type": "stream",
     "text": [
      "Best Parameters: {'base_estimator': MLPRegressor(alpha=0.001, hidden_layer_sizes=(6, 6), max_iter=5000,\n",
      "             solver='lbfgs'), 'loss': 'linear', 'n_estimators': 50}\n",
      "Best Estimator: AdaBoostRegressor(base_estimator=MLPRegressor(alpha=0.001,\n",
      "                                              hidden_layer_sizes=(6, 6),\n",
      "                                              max_iter=5000, solver='lbfgs'))\n",
      "Predictions: MAE: 290.976380, RMSE: 1149.039113, R2_Score: 0.9561\n",
      "\n"
     ]
    }
   ],
   "source": [
    "estimators = [kn, dt, gb, rf, et, mlp]\n",
    "es_names = ['KNeighbors', 'Decision Tree', 'Gradient Boosting', 'Random Forest', 'Extra Trees', 'MLP']\n",
    "for name, estimator in zip(es_names, estimators):\n",
    "    ab_param_grid = {'base_estimator':[estimator],\n",
    "                'n_estimators':[50,70],\n",
    "                'loss':['linear', 'square']}\n",
    "    print('AdaBoost with base regressor: {}'.format(name))\n",
    "    boost(AdaBoostRegressor(), ab_param_grid)"
   ]
  },
  {
   "cell_type": "markdown",
   "metadata": {},
   "source": [
    "### Stacking"
   ]
  },
  {
   "cell_type": "code",
   "execution_count": 47,
   "metadata": {},
   "outputs": [],
   "source": [
    "stack_estimators = [('rf', rf), ('et', et), ('gb', gb)]\n",
    "\n",
    "stack = StackingRegressor(estimators=stack_estimators, final_estimator=mlp, cv=5)"
   ]
  },
  {
   "cell_type": "code",
   "execution_count": 48,
   "metadata": {},
   "outputs": [
    {
     "data": {
      "text/plain": [
       "StackingRegressor(cv=5,\n",
       "                  estimators=[('rf',\n",
       "                               RandomForestRegressor(criterion='mae',\n",
       "                                                     n_estimators=70)),\n",
       "                              ('et', ExtraTreesRegressor(n_estimators=70)),\n",
       "                              ('gb',\n",
       "                               GradientBoostingRegressor(alpha=0.5,\n",
       "                                                         criterion='mae',\n",
       "                                                         max_features='auto'))],\n",
       "                  final_estimator=MLPRegressor(alpha=0.001,\n",
       "                                               hidden_layer_sizes=(6, 6),\n",
       "                                               max_iter=5000, solver='lbfgs'))"
      ]
     },
     "execution_count": 48,
     "metadata": {},
     "output_type": "execute_result"
    }
   ],
   "source": [
    "stack.fit(X2_train_sc, y2_train)"
   ]
  },
  {
   "cell_type": "code",
   "execution_count": 49,
   "metadata": {
    "scrolled": true
   },
   "outputs": [
    {
     "name": "stdout",
     "output_type": "stream",
     "text": [
      "Predictions: MAE: 639.873652, RMSE: 1771.526188, R2_Score: 0.8956\n",
      "\n"
     ]
    }
   ],
   "source": [
    "stack_predictions = stack.predict(X2_test_sc)\n",
    "stack_score = (metrics.mean_absolute_error(y2_test, stack_predictions), np.sqrt(metrics.mean_squared_error(y2_test, stack_predictions)), metrics.r2_score(y2_test, stack_predictions)) \n",
    "print('Predictions: MAE: {:.6f}, RMSE: {:.6f}, R2_Score: {:.4f}\\n'.format(stack_score[0], stack_score[1], stack_score[2]))"
   ]
  }
 ],
 "metadata": {
  "kernelspec": {
   "display_name": "Python 3",
   "language": "python",
   "name": "python3"
  },
  "language_info": {
   "codemirror_mode": {
    "name": "ipython",
    "version": 3
   },
   "file_extension": ".py",
   "mimetype": "text/x-python",
   "name": "python",
   "nbconvert_exporter": "python",
   "pygments_lexer": "ipython3",
   "version": "3.8.5"
  }
 },
 "nbformat": 4,
 "nbformat_minor": 4
}
